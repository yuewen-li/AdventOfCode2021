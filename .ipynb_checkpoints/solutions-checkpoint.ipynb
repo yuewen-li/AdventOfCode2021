{
 "cells": [
  {
   "cell_type": "code",
   "execution_count": 1,
   "metadata": {},
   "outputs": [
    {
     "name": "stdout",
     "output_type": "stream",
     "text": [
      "time: 0 ns (started: 2022-01-02 15:24:48 +00:00)\n"
     ]
    }
   ],
   "source": [
    "%load_ext lab_black\n",
    "%load_ext autotime"
   ]
  },
  {
   "cell_type": "code",
   "execution_count": 2,
   "metadata": {},
   "outputs": [
    {
     "name": "stdout",
     "output_type": "stream",
     "text": [
      "time: 2.59 s (started: 2022-01-02 15:24:49 +00:00)\n"
     ]
    }
   ],
   "source": [
    "import pandas as pd\n",
    "import numpy as np"
   ]
  },
  {
   "cell_type": "markdown",
   "metadata": {},
   "source": [
    "## Day1"
   ]
  },
  {
   "cell_type": "code",
   "execution_count": 10,
   "metadata": {},
   "outputs": [],
   "source": [
    "data = pd.read_csv(\"Day1/day1.txt\",header=None)"
   ]
  },
  {
   "cell_type": "code",
   "execution_count": 11,
   "metadata": {},
   "outputs": [
    {
     "data": {
      "text/html": [
       "<div>\n",
       "<style scoped>\n",
       "    .dataframe tbody tr th:only-of-type {\n",
       "        vertical-align: middle;\n",
       "    }\n",
       "\n",
       "    .dataframe tbody tr th {\n",
       "        vertical-align: top;\n",
       "    }\n",
       "\n",
       "    .dataframe thead th {\n",
       "        text-align: right;\n",
       "    }\n",
       "</style>\n",
       "<table border=\"1\" class=\"dataframe\">\n",
       "  <thead>\n",
       "    <tr style=\"text-align: right;\">\n",
       "      <th></th>\n",
       "      <th>0</th>\n",
       "    </tr>\n",
       "  </thead>\n",
       "  <tbody>\n",
       "    <tr>\n",
       "      <th>0</th>\n",
       "      <td>140</td>\n",
       "    </tr>\n",
       "    <tr>\n",
       "      <th>1</th>\n",
       "      <td>154</td>\n",
       "    </tr>\n",
       "    <tr>\n",
       "      <th>2</th>\n",
       "      <td>165</td>\n",
       "    </tr>\n",
       "  </tbody>\n",
       "</table>\n",
       "</div>"
      ],
      "text/plain": [
       "     0\n",
       "0  140\n",
       "1  154\n",
       "2  165"
      ]
     },
     "execution_count": 11,
     "metadata": {},
     "output_type": "execute_result"
    }
   ],
   "source": [
    "data.head(3)"
   ]
  },
  {
   "cell_type": "code",
   "execution_count": 30,
   "metadata": {},
   "outputs": [],
   "source": [
    "def cnt_larger_than_prev(x: np.array or list) -> int:\n",
    "    cnt = 0\n",
    "    prev = None\n",
    "    for i in x:\n",
    "        if not prev:\n",
    "            prev = i\n",
    "            continue\n",
    "        if i > prev:\n",
    "            cnt += 1\n",
    "        prev = i\n",
    "    return cnt"
   ]
  },
  {
   "cell_type": "code",
   "execution_count": 24,
   "metadata": {},
   "outputs": [],
   "source": [
    "test = [199, 200, 208, 210, 200, 207, 240, 269, 260, 263]"
   ]
  },
  {
   "cell_type": "code",
   "execution_count": 32,
   "metadata": {},
   "outputs": [
    {
     "data": {
      "text/plain": [
       "7"
      ]
     },
     "execution_count": 32,
     "metadata": {},
     "output_type": "execute_result"
    }
   ],
   "source": [
    "cnt_larger_than_prev(test)"
   ]
  },
  {
   "cell_type": "code",
   "execution_count": 31,
   "metadata": {},
   "outputs": [
    {
     "data": {
      "text/plain": [
       "1298"
      ]
     },
     "execution_count": 31,
     "metadata": {},
     "output_type": "execute_result"
    }
   ],
   "source": [
    "cnt_larger_than_prev(data[0])"
   ]
  },
  {
   "cell_type": "code",
   "execution_count": 33,
   "metadata": {},
   "outputs": [],
   "source": [
    "def calc_sum(x: np.array or list) -> list:\n",
    "    output = []\n",
    "    for i in x:\n",
    "        if not output:\n",
    "            output.append(i)\n",
    "        else:\n",
    "            output.append(output[-1] + i)\n",
    "    return output"
   ]
  },
  {
   "cell_type": "code",
   "execution_count": 34,
   "metadata": {},
   "outputs": [
    {
     "data": {
      "text/plain": [
       "[199, 399, 607, 817, 1017, 1224, 1464, 1733, 1993, 2256]"
      ]
     },
     "execution_count": 34,
     "metadata": {},
     "output_type": "execute_result"
    }
   ],
   "source": [
    "calc_sum(test)"
   ]
  },
  {
   "cell_type": "code",
   "execution_count": 38,
   "metadata": {},
   "outputs": [],
   "source": [
    "def calc_sum_n_window(x: np.array or list, n: int) -> list:\n",
    "    output = []\n",
    "    for i in range(n - 1, len(x)):\n",
    "        if not output:\n",
    "            output.append(x[i])\n",
    "        else:\n",
    "            output.append(x[i] - x[i - n])\n",
    "    return output"
   ]
  },
  {
   "cell_type": "code",
   "execution_count": 39,
   "metadata": {},
   "outputs": [
    {
     "data": {
      "text/plain": [
       "[607, 618, 618, 617, 647, 716, 769, 792]"
      ]
     },
     "execution_count": 39,
     "metadata": {},
     "output_type": "execute_result"
    }
   ],
   "source": [
    "calc_sum_n_window(calc_sum(test), 3)"
   ]
  },
  {
   "cell_type": "code",
   "execution_count": 40,
   "metadata": {},
   "outputs": [],
   "source": [
    "def cnt_larger_than_prev_n_window(x: np.array or list, n: int) -> int:\n",
    "    sum_ls = calc_sum(x)\n",
    "    sum_n_window_ls = calc_sum_n_window(sum_ls, n)\n",
    "    cnt = cnt_larger_than_prev(sum_n_window_ls)\n",
    "    return cnt"
   ]
  },
  {
   "cell_type": "code",
   "execution_count": 41,
   "metadata": {},
   "outputs": [
    {
     "data": {
      "text/plain": [
       "5"
      ]
     },
     "execution_count": 41,
     "metadata": {},
     "output_type": "execute_result"
    }
   ],
   "source": [
    "cnt_larger_than_prev_n_window(test, 3)"
   ]
  },
  {
   "cell_type": "code",
   "execution_count": 42,
   "metadata": {},
   "outputs": [
    {
     "data": {
      "text/plain": [
       "1248"
      ]
     },
     "execution_count": 42,
     "metadata": {},
     "output_type": "execute_result"
    }
   ],
   "source": [
    "cnt_larger_than_prev_n_window(data[0], 3)"
   ]
  },
  {
   "cell_type": "markdown",
   "metadata": {},
   "source": [
    "## Day2"
   ]
  },
  {
   "cell_type": "code",
   "execution_count": 5,
   "metadata": {},
   "outputs": [],
   "source": [
    "data = pd.read_csv(\"Day2/day2.txt\",header=None,sep=\" \")"
   ]
  },
  {
   "cell_type": "code",
   "execution_count": 6,
   "metadata": {},
   "outputs": [
    {
     "data": {
      "text/html": [
       "<div>\n",
       "<style scoped>\n",
       "    .dataframe tbody tr th:only-of-type {\n",
       "        vertical-align: middle;\n",
       "    }\n",
       "\n",
       "    .dataframe tbody tr th {\n",
       "        vertical-align: top;\n",
       "    }\n",
       "\n",
       "    .dataframe thead th {\n",
       "        text-align: right;\n",
       "    }\n",
       "</style>\n",
       "<table border=\"1\" class=\"dataframe\">\n",
       "  <thead>\n",
       "    <tr style=\"text-align: right;\">\n",
       "      <th></th>\n",
       "      <th>0</th>\n",
       "      <th>1</th>\n",
       "    </tr>\n",
       "  </thead>\n",
       "  <tbody>\n",
       "    <tr>\n",
       "      <th>0</th>\n",
       "      <td>forward</td>\n",
       "      <td>4</td>\n",
       "    </tr>\n",
       "    <tr>\n",
       "      <th>1</th>\n",
       "      <td>down</td>\n",
       "      <td>7</td>\n",
       "    </tr>\n",
       "    <tr>\n",
       "      <th>2</th>\n",
       "      <td>down</td>\n",
       "      <td>4</td>\n",
       "    </tr>\n",
       "  </tbody>\n",
       "</table>\n",
       "</div>"
      ],
      "text/plain": [
       "         0  1\n",
       "0  forward  4\n",
       "1     down  7\n",
       "2     down  4"
      ]
     },
     "execution_count": 6,
     "metadata": {},
     "output_type": "execute_result"
    }
   ],
   "source": [
    "data.head(3)"
   ]
  },
  {
   "cell_type": "code",
   "execution_count": 11,
   "metadata": {},
   "outputs": [],
   "source": [
    "def calc(data):\n",
    "    x = 0\n",
    "    y = 0\n",
    "    for idx, row in data.iterrows():\n",
    "        if row[0] == 'forward':\n",
    "            x += row[1]\n",
    "        elif row[0] == \"down\":\n",
    "            y += row[1]\n",
    "        elif row[0] == 'up':\n",
    "            y -= row[1]\n",
    "        else:\n",
    "            print(\"invalid command!\")\n",
    "    return x*y"
   ]
  },
  {
   "cell_type": "code",
   "execution_count": 12,
   "metadata": {},
   "outputs": [],
   "source": [
    "test = pd.read_csv(\"Day2/test.txt\",header=None,sep=\" \")"
   ]
  },
  {
   "cell_type": "code",
   "execution_count": 13,
   "metadata": {},
   "outputs": [
    {
     "data": {
      "text/plain": [
       "150"
      ]
     },
     "execution_count": 13,
     "metadata": {},
     "output_type": "execute_result"
    }
   ],
   "source": [
    "calc(test)"
   ]
  },
  {
   "cell_type": "code",
   "execution_count": 14,
   "metadata": {},
   "outputs": [
    {
     "data": {
      "text/plain": [
       "1250395"
      ]
     },
     "execution_count": 14,
     "metadata": {},
     "output_type": "execute_result"
    }
   ],
   "source": [
    "calc(data)"
   ]
  },
  {
   "cell_type": "code",
   "execution_count": 15,
   "metadata": {},
   "outputs": [],
   "source": [
    "def calc_with_aim(data):\n",
    "    x = 0\n",
    "    y = 0\n",
    "    aim = 0\n",
    "    for idx, row in data.iterrows():\n",
    "        if row[0] == 'forward':\n",
    "            x += row[1]\n",
    "            y += aim * row[1]\n",
    "        elif row[0] == \"down\":\n",
    "            aim += row[1]\n",
    "        elif row[0] == 'up':\n",
    "            aim -= row[1]\n",
    "        else:\n",
    "            print(\"invalid command!\")\n",
    "    return x*y"
   ]
  },
  {
   "cell_type": "code",
   "execution_count": 16,
   "metadata": {},
   "outputs": [
    {
     "data": {
      "text/plain": [
       "900"
      ]
     },
     "execution_count": 16,
     "metadata": {},
     "output_type": "execute_result"
    }
   ],
   "source": [
    "calc_with_aim(test)"
   ]
  },
  {
   "cell_type": "code",
   "execution_count": 17,
   "metadata": {},
   "outputs": [
    {
     "data": {
      "text/plain": [
       "1451210346"
      ]
     },
     "execution_count": 17,
     "metadata": {},
     "output_type": "execute_result"
    }
   ],
   "source": [
    "calc_with_aim(data)"
   ]
  },
  {
   "cell_type": "markdown",
   "metadata": {},
   "source": [
    "## Day3"
   ]
  },
  {
   "cell_type": "code",
   "execution_count": 88,
   "metadata": {},
   "outputs": [],
   "source": [
    "with open('Day3/day3.txt', 'r') as file:\n",
    "    data = file.read().split(\"\\n\")"
   ]
  },
  {
   "cell_type": "code",
   "execution_count": 37,
   "metadata": {},
   "outputs": [
    {
     "data": {
      "text/plain": [
       "['00100',\n",
       " '11110',\n",
       " '10110',\n",
       " '10111',\n",
       " '10101',\n",
       " '01111',\n",
       " '00111',\n",
       " '11100',\n",
       " '10000',\n",
       " '11001',\n",
       " '00010',\n",
       " '01010']"
      ]
     },
     "execution_count": 37,
     "metadata": {},
     "output_type": "execute_result"
    }
   ],
   "source": [
    "with open('Day3/test.txt', 'r') as file:\n",
    "    test = file.read().split(\"\\n\")\n",
    "test"
   ]
  },
  {
   "cell_type": "code",
   "execution_count": 67,
   "metadata": {},
   "outputs": [],
   "source": [
    "def binary_to_decimal(x: np.array or list) -> int:\n",
    "    sum_ = 0\n",
    "    for i in range(len(x)):\n",
    "        sum_ += int(x[i])*2**(len(x)-i-1)\n",
    "    return sum_"
   ]
  },
  {
   "cell_type": "code",
   "execution_count": 54,
   "metadata": {},
   "outputs": [],
   "source": [
    "def calc_gamma_epsilon(x: np.array or list) -> int:\n",
    "    l = len(x[0])\n",
    "    res = np.zeros(shape=(l,2), dtype=int)\n",
    "    for i in x:\n",
    "        for _ in range(len(i)):\n",
    "            res[_][int(i[_])] += 1\n",
    "    gamma_binary = res.argmax(axis=1)\n",
    "    epsilon_binary = 1- res.argmax(axis=1)\n",
    "    gamma = binary_to_decimal(gamma_binary)\n",
    "    epsilon = binary_to_decimal(epsilon_binary)\n",
    "    return gamma*epsilon"
   ]
  },
  {
   "cell_type": "code",
   "execution_count": 55,
   "metadata": {},
   "outputs": [
    {
     "data": {
      "text/plain": [
       "198"
      ]
     },
     "execution_count": 55,
     "metadata": {},
     "output_type": "execute_result"
    }
   ],
   "source": [
    "calc_gamma_epsilon(test)"
   ]
  },
  {
   "cell_type": "code",
   "execution_count": 90,
   "metadata": {},
   "outputs": [
    {
     "data": {
      "text/plain": [
       "3813416"
      ]
     },
     "execution_count": 90,
     "metadata": {},
     "output_type": "execute_result"
    }
   ],
   "source": [
    "calc_gamma_epsilon(data)"
   ]
  },
  {
   "cell_type": "code",
   "execution_count": 81,
   "metadata": {},
   "outputs": [],
   "source": [
    "def split_binary_by_bit(x: np.array or list, pos:int, criteria: str) -> np.array or list:\n",
    "    dict_ = {0:[],1:[]}\n",
    "    for i in x:\n",
    "        if i[pos] == '0':\n",
    "            dict_[0].append(i)\n",
    "        else:\n",
    "            dict_[1].append(i)\n",
    "    if criteria == \"oxygen\":\n",
    "        if len(dict_[0]) > len(dict_[1]):\n",
    "            return dict_[0]\n",
    "        else:\n",
    "            return dict_[1]\n",
    "    elif criteria==\"co2\":\n",
    "        if len(dict_[0]) <= len(dict_[1]):\n",
    "            return dict_[0]\n",
    "        else:\n",
    "            return dict_[1]\n",
    "    else:\n",
    "        raise ValueError(\"invalid criteria!\")"
   ]
  },
  {
   "cell_type": "code",
   "execution_count": 91,
   "metadata": {},
   "outputs": [
    {
     "data": {
      "text/plain": [
       "['00100', '01111', '00111', '00010', '01010']"
      ]
     },
     "execution_count": 91,
     "metadata": {},
     "output_type": "execute_result"
    }
   ],
   "source": [
    "split_binary_by_bit(test,0,\"co2\")"
   ]
  },
  {
   "cell_type": "code",
   "execution_count": 92,
   "metadata": {},
   "outputs": [],
   "source": [
    "def calc_oxy_co2(x: np.array or list) -> int:\n",
    "    x_oxy = x_co2 = x\n",
    "    length = len(x[0])\n",
    "    oxy_found = False\n",
    "    co2_found = False\n",
    "    for i in range(length):\n",
    "        if not oxy_found:\n",
    "            oxygen = split_binary_by_bit(x_oxy,i,\"oxygen\")\n",
    "            if len(oxygen) == 1:\n",
    "                oxy_res = oxygen[0]\n",
    "                oxy_found = True\n",
    "            else:\n",
    "                x_oxy = oxygen\n",
    "        if not co2_found:\n",
    "            co2 = split_binary_by_bit(x_co2,i,\"co2\")\n",
    "            if len(co2) == 1:\n",
    "                co2_res = co2[0]\n",
    "                co2_found = True\n",
    "            else:\n",
    "                x_co2 = co2\n",
    "    oxy = binary_to_decimal(oxy_res)\n",
    "    co2_decimal = binary_to_decimal(co2_res)\n",
    "    return oxy_res,co2_res,oxy*co2_decimal"
   ]
  },
  {
   "cell_type": "code",
   "execution_count": 93,
   "metadata": {},
   "outputs": [
    {
     "data": {
      "text/plain": [
       "('10111', '01010', 230)"
      ]
     },
     "execution_count": 93,
     "metadata": {},
     "output_type": "execute_result"
    }
   ],
   "source": [
    "calc_oxy_co2(test)"
   ]
  },
  {
   "cell_type": "code",
   "execution_count": 94,
   "metadata": {},
   "outputs": [
    {
     "data": {
      "text/plain": [
       "('100111011110', '010010100000', 2990784)"
      ]
     },
     "execution_count": 94,
     "metadata": {},
     "output_type": "execute_result"
    }
   ],
   "source": [
    "calc_oxy_co2(data)"
   ]
  },
  {
   "cell_type": "markdown",
   "metadata": {},
   "source": [
    "## Day4"
   ]
  },
  {
   "cell_type": "code",
   "execution_count": 97,
   "metadata": {},
   "outputs": [],
   "source": [
    "with open('Day4/day4.txt', 'r') as file:\n",
    "    data = file.read().split(\"\\n\\n\")"
   ]
  },
  {
   "cell_type": "code",
   "execution_count": 142,
   "metadata": {},
   "outputs": [],
   "source": [
    "with open('Day4/test.txt', 'r') as file:\n",
    "    test = file.read().split(\"\\n\\n\")"
   ]
  },
  {
   "cell_type": "code",
   "execution_count": 105,
   "metadata": {},
   "outputs": [],
   "source": [
    "random_number_ls = eval(data[0])"
   ]
  },
  {
   "cell_type": "code",
   "execution_count": 143,
   "metadata": {},
   "outputs": [],
   "source": [
    "random_number_test_ls = eval(test[0])"
   ]
  },
  {
   "cell_type": "code",
   "execution_count": 114,
   "metadata": {},
   "outputs": [],
   "source": [
    "matrix_ls = []\n",
    "for matrix in data[1:]:\n",
    "    matrix_ls.append(np.matrix(matrix.replace(\"\\n\",\";\")))"
   ]
  },
  {
   "cell_type": "code",
   "execution_count": 144,
   "metadata": {},
   "outputs": [],
   "source": [
    "matrix_test_ls = []\n",
    "for matrix in test[1:]:\n",
    "    matrix_test_ls.append(np.matrix(matrix.replace(\"\\n\",\";\")))"
   ]
  },
  {
   "cell_type": "code",
   "execution_count": 115,
   "metadata": {},
   "outputs": [
    {
     "data": {
      "text/plain": [
       "100"
      ]
     },
     "execution_count": 115,
     "metadata": {},
     "output_type": "execute_result"
    }
   ],
   "source": [
    "len(matrix_ls)"
   ]
  },
  {
   "cell_type": "code",
   "execution_count": 157,
   "metadata": {},
   "outputs": [],
   "source": [
    "def calc_score(random_number_ls: list,matrix_ls: list) -> int:\n",
    "    check = [np.matrix(np.zeros(shape=matrix_ls[0].shape, dtype=bool))] * len(matrix_ls)\n",
    "    for num in random_number_ls:\n",
    "        for i in range(len(matrix_ls)):\n",
    "            check[i] = (matrix_ls[i] == num) | check[i]\n",
    "            if (check[i].prod(axis=0).sum() > 0) or (check[i].prod(axis=1).sum() > 0):\n",
    "                score = num * matrix_ls[i].flatten()[~check[i].flatten()].sum()\n",
    "                return(score)"
   ]
  },
  {
   "cell_type": "code",
   "execution_count": 153,
   "metadata": {},
   "outputs": [
    {
     "data": {
      "text/plain": [
       "4512"
      ]
     },
     "execution_count": 153,
     "metadata": {},
     "output_type": "execute_result"
    }
   ],
   "source": [
    "calc_score(random_number_test_ls,matrix_test_ls)"
   ]
  },
  {
   "cell_type": "code",
   "execution_count": 154,
   "metadata": {},
   "outputs": [
    {
     "data": {
      "text/plain": [
       "69579"
      ]
     },
     "execution_count": 154,
     "metadata": {},
     "output_type": "execute_result"
    }
   ],
   "source": [
    "calc_score(random_number_ls,matrix_ls)"
   ]
  },
  {
   "cell_type": "code",
   "execution_count": 158,
   "metadata": {},
   "outputs": [],
   "source": [
    "def calc_score_last(random_number_ls: list,matrix_ls: list) -> int:\n",
    "    check = [np.matrix(np.zeros(shape=matrix_ls[0].shape, dtype=bool))] * len(matrix_ls)\n",
    "    mark = [0] * len(matrix_ls)\n",
    "    for num in random_number_ls:\n",
    "        for i in range(len(matrix_ls)):\n",
    "            if (mark[i] != 1) and (sum(mark) < len(mark)):\n",
    "                check[i] = (matrix_ls[i] == num) | check[i]\n",
    "                if (check[i].prod(axis=0).sum() > 0) or (check[i].prod(axis=1).sum() > 0):\n",
    "                    mark[i] = 1\n",
    "                    if (sum(mark) == len(mark)):\n",
    "                        score = num * matrix_ls[i].flatten()[~check[i].flatten()].sum()\n",
    "                        return(score)"
   ]
  },
  {
   "cell_type": "code",
   "execution_count": 159,
   "metadata": {},
   "outputs": [
    {
     "data": {
      "text/plain": [
       "1924"
      ]
     },
     "execution_count": 159,
     "metadata": {},
     "output_type": "execute_result"
    }
   ],
   "source": [
    "calc_score_last(random_number_test_ls,matrix_test_ls)"
   ]
  },
  {
   "cell_type": "code",
   "execution_count": 160,
   "metadata": {},
   "outputs": [
    {
     "data": {
      "text/plain": [
       "14877"
      ]
     },
     "execution_count": 160,
     "metadata": {},
     "output_type": "execute_result"
    }
   ],
   "source": [
    "calc_score_last(random_number_ls,matrix_ls)"
   ]
  },
  {
   "cell_type": "markdown",
   "metadata": {},
   "source": [
    "## Day5"
   ]
  },
  {
   "cell_type": "code",
   "execution_count": 211,
   "metadata": {},
   "outputs": [],
   "source": [
    "with open('Day5/day5.txt', 'r') as file:\n",
    "    data = file.read().split(\"\\n\")"
   ]
  },
  {
   "cell_type": "code",
   "execution_count": 224,
   "metadata": {},
   "outputs": [],
   "source": [
    "with open('Day5/test.txt', 'r') as file:\n",
    "    test = file.read().split(\"\\n\")"
   ]
  },
  {
   "cell_type": "code",
   "execution_count": 212,
   "metadata": {},
   "outputs": [
    {
     "data": {
      "text/plain": [
       "'565,190 -> 756,381'"
      ]
     },
     "execution_count": 212,
     "metadata": {},
     "output_type": "execute_result"
    }
   ],
   "source": [
    "data[0]"
   ]
  },
  {
   "cell_type": "code",
   "execution_count": 225,
   "metadata": {},
   "outputs": [
    {
     "data": {
      "text/html": [
       "<div>\n",
       "<style scoped>\n",
       "    .dataframe tbody tr th:only-of-type {\n",
       "        vertical-align: middle;\n",
       "    }\n",
       "\n",
       "    .dataframe tbody tr th {\n",
       "        vertical-align: top;\n",
       "    }\n",
       "\n",
       "    .dataframe thead th {\n",
       "        text-align: right;\n",
       "    }\n",
       "</style>\n",
       "<table border=\"1\" class=\"dataframe\">\n",
       "  <thead>\n",
       "    <tr style=\"text-align: right;\">\n",
       "      <th></th>\n",
       "      <th>x1</th>\n",
       "      <th>y1</th>\n",
       "      <th>x2</th>\n",
       "      <th>y2</th>\n",
       "    </tr>\n",
       "  </thead>\n",
       "  <tbody>\n",
       "    <tr>\n",
       "      <th>0</th>\n",
       "      <td>0</td>\n",
       "      <td>9</td>\n",
       "      <td>5</td>\n",
       "      <td>9</td>\n",
       "    </tr>\n",
       "    <tr>\n",
       "      <th>1</th>\n",
       "      <td>8</td>\n",
       "      <td>0</td>\n",
       "      <td>0</td>\n",
       "      <td>8</td>\n",
       "    </tr>\n",
       "    <tr>\n",
       "      <th>2</th>\n",
       "      <td>9</td>\n",
       "      <td>4</td>\n",
       "      <td>3</td>\n",
       "      <td>4</td>\n",
       "    </tr>\n",
       "  </tbody>\n",
       "</table>\n",
       "</div>"
      ],
      "text/plain": [
       "   x1  y1  x2  y2\n",
       "0   0   9   5   9\n",
       "1   8   0   0   8\n",
       "2   9   4   3   4"
      ]
     },
     "execution_count": 225,
     "metadata": {},
     "output_type": "execute_result"
    }
   ],
   "source": [
    "import re\n",
    "test= pd.DataFrame([re.findall(r\"[\\d]+\",_) for _ in test],columns=['x1','y1','x2','y2']).astype(int)\n",
    "test.head(3)"
   ]
  },
  {
   "cell_type": "code",
   "execution_count": 213,
   "metadata": {},
   "outputs": [
    {
     "data": {
      "text/html": [
       "<div>\n",
       "<style scoped>\n",
       "    .dataframe tbody tr th:only-of-type {\n",
       "        vertical-align: middle;\n",
       "    }\n",
       "\n",
       "    .dataframe tbody tr th {\n",
       "        vertical-align: top;\n",
       "    }\n",
       "\n",
       "    .dataframe thead th {\n",
       "        text-align: right;\n",
       "    }\n",
       "</style>\n",
       "<table border=\"1\" class=\"dataframe\">\n",
       "  <thead>\n",
       "    <tr style=\"text-align: right;\">\n",
       "      <th></th>\n",
       "      <th>x1</th>\n",
       "      <th>y1</th>\n",
       "      <th>x2</th>\n",
       "      <th>y2</th>\n",
       "    </tr>\n",
       "  </thead>\n",
       "  <tbody>\n",
       "    <tr>\n",
       "      <th>0</th>\n",
       "      <td>565</td>\n",
       "      <td>190</td>\n",
       "      <td>756</td>\n",
       "      <td>381</td>\n",
       "    </tr>\n",
       "    <tr>\n",
       "      <th>1</th>\n",
       "      <td>402</td>\n",
       "      <td>695</td>\n",
       "      <td>402</td>\n",
       "      <td>138</td>\n",
       "    </tr>\n",
       "    <tr>\n",
       "      <th>2</th>\n",
       "      <td>271</td>\n",
       "      <td>844</td>\n",
       "      <td>98</td>\n",
       "      <td>844</td>\n",
       "    </tr>\n",
       "  </tbody>\n",
       "</table>\n",
       "</div>"
      ],
      "text/plain": [
       "    x1   y1   x2   y2\n",
       "0  565  190  756  381\n",
       "1  402  695  402  138\n",
       "2  271  844   98  844"
      ]
     },
     "execution_count": 213,
     "metadata": {},
     "output_type": "execute_result"
    }
   ],
   "source": [
    "data= pd.DataFrame([re.findall(r\"[\\d]+\",_) for _ in data],columns=['x1','y1','x2','y2']).astype(int)\n",
    "data.head(3)"
   ]
  },
  {
   "cell_type": "code",
   "execution_count": 218,
   "metadata": {},
   "outputs": [
    {
     "data": {
      "text/plain": [
       "x1    989\n",
       "y1    989\n",
       "x2    989\n",
       "y2    988\n",
       "dtype: int32"
      ]
     },
     "execution_count": 218,
     "metadata": {},
     "output_type": "execute_result"
    }
   ],
   "source": [
    "data.max()"
   ]
  },
  {
   "cell_type": "code",
   "execution_count": 235,
   "metadata": {},
   "outputs": [],
   "source": [
    "def cnt_overlap(df: pd.DataFrame) -> int:\n",
    "    res = np.zeros(shape=(1000,1000))\n",
    "    for idx,row in df.iterrows():\n",
    "        x1 = row['x1']\n",
    "        x2 = row['x2']\n",
    "        y1 = row['y1']\n",
    "        y2 = row['y2']\n",
    "        if (x1==x2):\n",
    "            for num in range(min(y1,y2),max(y1,y2)+1):\n",
    "                res[x1,num] += 1\n",
    "        elif (y1==y2):\n",
    "            for num in range(min(x1,x2),max(x1,x2)+1):\n",
    "                res[num,y1] += 1\n",
    "    return (res > 1).sum()"
   ]
  },
  {
   "cell_type": "code",
   "execution_count": 236,
   "metadata": {},
   "outputs": [
    {
     "data": {
      "text/plain": [
       "5"
      ]
     },
     "execution_count": 236,
     "metadata": {},
     "output_type": "execute_result"
    }
   ],
   "source": [
    "cnt_overlap(test)"
   ]
  },
  {
   "cell_type": "code",
   "execution_count": 237,
   "metadata": {},
   "outputs": [
    {
     "data": {
      "text/plain": [
       "8622"
      ]
     },
     "execution_count": 237,
     "metadata": {},
     "output_type": "execute_result"
    }
   ],
   "source": [
    "cnt_overlap(data)"
   ]
  },
  {
   "cell_type": "code",
   "execution_count": 246,
   "metadata": {},
   "outputs": [],
   "source": [
    "def cnt_overlap_diag(df: pd.DataFrame) -> int:\n",
    "    res = np.zeros(shape=(1000,1000))\n",
    "    for idx,row in df.iterrows():\n",
    "        x1 = row['x1']\n",
    "        x2 = row['x2']\n",
    "        y1 = row['y1']\n",
    "        y2 = row['y2']\n",
    "        if (x1==x2):\n",
    "            for num in range(min(y1,y2),max(y1,y2)+1):\n",
    "                res[x1,num] += 1\n",
    "        elif (y1==y2):\n",
    "            for num in range(min(x1,x2),max(x1,x2)+1):\n",
    "                res[num,y1] += 1\n",
    "        elif (x1-x2)**2==(y1-y2)**2:\n",
    "            order_x = 1 if x1<x2 else -1\n",
    "            order_y = 1 if y1<y2 else -1\n",
    "            for x,y in zip(range(x1,x2+order_x,order_x),range(y1,y2+order_y,order_y)):\n",
    "                res[x,y] += 1 \n",
    "    return (res > 1).sum()"
   ]
  },
  {
   "cell_type": "code",
   "execution_count": 247,
   "metadata": {},
   "outputs": [
    {
     "data": {
      "text/plain": [
       "12"
      ]
     },
     "execution_count": 247,
     "metadata": {},
     "output_type": "execute_result"
    }
   ],
   "source": [
    "cnt_overlap_diag(test)"
   ]
  },
  {
   "cell_type": "code",
   "execution_count": 248,
   "metadata": {},
   "outputs": [
    {
     "data": {
      "text/plain": [
       "22037"
      ]
     },
     "execution_count": 248,
     "metadata": {},
     "output_type": "execute_result"
    }
   ],
   "source": [
    "cnt_overlap_diag(data)"
   ]
  },
  {
   "cell_type": "markdown",
   "metadata": {},
   "source": [
    "## Day6"
   ]
  },
  {
   "cell_type": "code",
   "execution_count": 3,
   "metadata": {},
   "outputs": [],
   "source": [
    "with open(\"Day6/day6.txt\", \"r\") as file:\n",
    "    data = file.read().split(\",\")\n",
    "    data = [int(_) for _ in data]"
   ]
  },
  {
   "cell_type": "code",
   "execution_count": 4,
   "metadata": {},
   "outputs": [
    {
     "data": {
      "text/plain": [
       "300"
      ]
     },
     "execution_count": 4,
     "metadata": {},
     "output_type": "execute_result"
    }
   ],
   "source": [
    "len(data)"
   ]
  },
  {
   "cell_type": "code",
   "execution_count": 5,
   "metadata": {},
   "outputs": [],
   "source": [
    "test = [3, 4, 3, 1, 2]"
   ]
  },
  {
   "cell_type": "code",
   "execution_count": 6,
   "metadata": {},
   "outputs": [],
   "source": [
    "def calc_laternfish(init_state: list, days: int) -> int:\n",
    "    for day in range(days):\n",
    "        cnt_new_fish = [_ for _ in init_state if _ == 0]\n",
    "        init_state = [_ - 1 if _ > 0 else 6 for _ in init_state]\n",
    "        init_state = init_state + [8] * len(cnt_new_fish)\n",
    "    return len(init_state)"
   ]
  },
  {
   "cell_type": "code",
   "execution_count": 7,
   "metadata": {},
   "outputs": [
    {
     "data": {
      "text/plain": [
       "26"
      ]
     },
     "execution_count": 7,
     "metadata": {},
     "output_type": "execute_result"
    }
   ],
   "source": [
    "calc_laternfish(test, 18)"
   ]
  },
  {
   "cell_type": "code",
   "execution_count": 8,
   "metadata": {},
   "outputs": [
    {
     "data": {
      "text/plain": [
       "5934"
      ]
     },
     "execution_count": 8,
     "metadata": {},
     "output_type": "execute_result"
    }
   ],
   "source": [
    "calc_laternfish(test, 80)"
   ]
  },
  {
   "cell_type": "code",
   "execution_count": 9,
   "metadata": {},
   "outputs": [
    {
     "data": {
      "text/plain": [
       "366057"
      ]
     },
     "execution_count": 9,
     "metadata": {},
     "output_type": "execute_result"
    }
   ],
   "source": [
    "calc_laternfish(data, 80)"
   ]
  },
  {
   "cell_type": "code",
   "execution_count": 10,
   "metadata": {},
   "outputs": [],
   "source": [
    "def calc_laternfish_speed_up(init_state: list, days: int) -> int:\n",
    "    dict_ = {}\n",
    "    for i in range(9):\n",
    "        dict_[i] = len([_ for _ in init_state if _ == i])\n",
    "    for day in range(days):\n",
    "        new = dict_[0]\n",
    "        dict_[0] = dict_[1]\n",
    "        dict_[1] = dict_[2]\n",
    "        dict_[2] = dict_[3]\n",
    "        dict_[3] = dict_[4]\n",
    "        dict_[4] = dict_[5]\n",
    "        dict_[5] = dict_[6]\n",
    "        dict_[6] = dict_[7] + new\n",
    "        dict_[7] = dict_[8]\n",
    "        dict_[8] = new\n",
    "    return sum(dict_.values())"
   ]
  },
  {
   "cell_type": "code",
   "execution_count": 12,
   "metadata": {},
   "outputs": [
    {
     "data": {
      "text/plain": [
       "26984457539"
      ]
     },
     "execution_count": 12,
     "metadata": {},
     "output_type": "execute_result"
    }
   ],
   "source": [
    "calc_laternfish_speed_up(test, 256)"
   ]
  },
  {
   "cell_type": "code",
   "execution_count": 13,
   "metadata": {},
   "outputs": [
    {
     "data": {
      "text/plain": [
       "1653559299811"
      ]
     },
     "execution_count": 13,
     "metadata": {},
     "output_type": "execute_result"
    }
   ],
   "source": [
    "calc_laternfish_speed_up(data, 256)"
   ]
  },
  {
   "cell_type": "markdown",
   "metadata": {},
   "source": [
    "## Day7"
   ]
  },
  {
   "cell_type": "code",
   "execution_count": 14,
   "metadata": {},
   "outputs": [],
   "source": [
    "with open(\"Day7/day7.txt\", \"r\") as file:\n",
    "    data = file.read().split(\",\")\n",
    "    data = [int(_) for _ in data]"
   ]
  },
  {
   "cell_type": "code",
   "execution_count": 15,
   "metadata": {},
   "outputs": [
    {
     "data": {
      "text/plain": [
       "1946"
      ]
     },
     "execution_count": 15,
     "metadata": {},
     "output_type": "execute_result"
    }
   ],
   "source": [
    "np.array(data).max()"
   ]
  },
  {
   "cell_type": "code",
   "execution_count": 16,
   "metadata": {},
   "outputs": [
    {
     "data": {
      "text/plain": [
       "0"
      ]
     },
     "execution_count": 16,
     "metadata": {},
     "output_type": "execute_result"
    }
   ],
   "source": [
    "np.array(data).min()"
   ]
  },
  {
   "cell_type": "code",
   "execution_count": 18,
   "metadata": {},
   "outputs": [],
   "source": [
    "dict_ = {}\n",
    "for i in range(1946):\n",
    "    dist = sum([abs(_ - i) for _ in data])\n",
    "    dict_[i] = dist"
   ]
  },
  {
   "cell_type": "code",
   "execution_count": 20,
   "metadata": {},
   "outputs": [
    {
     "data": {
      "text/plain": [
       "364898"
      ]
     },
     "execution_count": 20,
     "metadata": {},
     "output_type": "execute_result"
    }
   ],
   "source": [
    "min(dict_.values())"
   ]
  },
  {
   "cell_type": "code",
   "execution_count": 21,
   "metadata": {},
   "outputs": [],
   "source": [
    "def calc_sum(dist):\n",
    "    return (1 + dist) * dist / 2"
   ]
  },
  {
   "cell_type": "code",
   "execution_count": 22,
   "metadata": {},
   "outputs": [
    {
     "data": {
      "text/plain": [
       "15.0"
      ]
     },
     "execution_count": 22,
     "metadata": {},
     "output_type": "execute_result"
    }
   ],
   "source": [
    "calc_sum(5)"
   ]
  },
  {
   "cell_type": "code",
   "execution_count": 23,
   "metadata": {},
   "outputs": [],
   "source": [
    "dict_ = {}\n",
    "for i in range(1946):\n",
    "    dist = sum([calc_sum(abs(_ - i)) for _ in data])\n",
    "    dict_[i] = dist"
   ]
  },
  {
   "cell_type": "code",
   "execution_count": 24,
   "metadata": {},
   "outputs": [
    {
     "data": {
      "text/plain": [
       "104149091.0"
      ]
     },
     "execution_count": 24,
     "metadata": {},
     "output_type": "execute_result"
    }
   ],
   "source": [
    "min(dict_.values())"
   ]
  },
  {
   "cell_type": "markdown",
   "metadata": {},
   "source": [
    "## Day8"
   ]
  },
  {
   "cell_type": "code",
   "execution_count": 26,
   "metadata": {},
   "outputs": [],
   "source": [
    "with open(\"Day8/day8.txt\", \"r\") as file:\n",
    "    data = file.read().split(\"\\n\")"
   ]
  },
  {
   "cell_type": "code",
   "execution_count": 115,
   "metadata": {},
   "outputs": [],
   "source": [
    "with open(\"Day8/test.txt\", \"r\") as file:\n",
    "    test = file.read().split(\"\\n\")"
   ]
  },
  {
   "cell_type": "code",
   "execution_count": 27,
   "metadata": {},
   "outputs": [
    {
     "data": {
      "text/plain": [
       "'dac abcf ac fdbcga dgcbae gcbfde fgcbd agfed adcgf cdbgfea | cbfa bcafdg cbfa bafcgd'"
      ]
     },
     "execution_count": 27,
     "metadata": {},
     "output_type": "execute_result"
    }
   ],
   "source": [
    "data[0]"
   ]
  },
  {
   "cell_type": "code",
   "execution_count": 134,
   "metadata": {},
   "outputs": [],
   "source": [
    "output = [_.split(\" | \")[1].split() for _ in data]"
   ]
  },
  {
   "cell_type": "code",
   "execution_count": 30,
   "metadata": {},
   "outputs": [
    {
     "data": {
      "text/plain": [
       "[['cbfa', 'bcafdg', 'cbfa', 'bafcgd'],\n",
       " ['bef', 'fe', 'dgfe', 'feb'],\n",
       " ['cd', 'geadf', 'cfd', 'bfaec'],\n",
       " ['cfdge', 'gefda', 'ecbgdfa', 'eaf'],\n",
       " ['edafbg', 'bdefgc', 'egdfa', 'gbead']]"
      ]
     },
     "execution_count": 30,
     "metadata": {},
     "output_type": "execute_result"
    }
   ],
   "source": [
    "output[:5]"
   ]
  },
  {
   "cell_type": "code",
   "execution_count": 32,
   "metadata": {},
   "outputs": [],
   "source": [
    "cnt = 0\n",
    "for _ in output:\n",
    "    for i in _:\n",
    "        if len(i) in [2, 3, 4, 7]:\n",
    "            cnt += 1"
   ]
  },
  {
   "cell_type": "code",
   "execution_count": 33,
   "metadata": {},
   "outputs": [
    {
     "data": {
      "text/plain": [
       "321"
      ]
     },
     "execution_count": 33,
     "metadata": {},
     "output_type": "execute_result"
    }
   ],
   "source": [
    "cnt"
   ]
  },
  {
   "cell_type": "code",
   "execution_count": 133,
   "metadata": {},
   "outputs": [],
   "source": [
    "code = [_.split(\" | \")[0].split() for _ in data]"
   ]
  },
  {
   "cell_type": "code",
   "execution_count": 110,
   "metadata": {},
   "outputs": [],
   "source": [
    "def get_letter_cnt(code: str):\n",
    "    cnt_dict = {}\n",
    "    for alphabet in \"abcdefg\":\n",
    "        cnt_dict[alphabet] = \"\".join(code).count(alphabet)\n",
    "    return cnt_dict"
   ]
  },
  {
   "cell_type": "code",
   "execution_count": 111,
   "metadata": {},
   "outputs": [],
   "source": [
    "def find_147(code: str):\n",
    "    alc = {}\n",
    "    for i in code:\n",
    "        if len(i) == 2:\n",
    "            alc[1] = i\n",
    "        elif len(i) == 3:\n",
    "            alc[7] = i\n",
    "        elif len(i) == 4:\n",
    "            alc[4] = i\n",
    "    return alc"
   ]
  },
  {
   "cell_type": "code",
   "execution_count": 126,
   "metadata": {},
   "outputs": [],
   "source": [
    "def get_letter_mapping(cnt_dict, alc):\n",
    "    dict_map = {}\n",
    "    dict_map[\"b\"] = list(cnt_dict.keys())[list(cnt_dict.values()).index(6)]\n",
    "    dict_map[\"e\"] = list(cnt_dict.keys())[list(cnt_dict.values()).index(4)]\n",
    "    dict_map[\"f\"] = list(cnt_dict.keys())[list(cnt_dict.values()).index(9)]\n",
    "    full_string = alc[7]\n",
    "    for _ in alc[1]:\n",
    "        remain = full_string.replace(_, \"\")\n",
    "        full_string = remain\n",
    "    dict_map[\"a\"] = remain\n",
    "    cnt_dict.pop(dict_map[\"a\"])\n",
    "    dict_map[\"c\"] = list(cnt_dict.keys())[list(cnt_dict.values()).index(8)]\n",
    "    for i in alc[4].replace(alc[1], \"\"):\n",
    "        if i not in dict_map.values():\n",
    "            dict_map[\"d\"] = i\n",
    "    full_string = \"abcdefg\"\n",
    "    for _ in \"\".join(list(dict_map.values())):\n",
    "        remain = full_string.replace(_, \"\")\n",
    "        full_string = remain\n",
    "    dict_map[\"g\"] = remain\n",
    "    return dict_map"
   ]
  },
  {
   "cell_type": "code",
   "execution_count": 127,
   "metadata": {},
   "outputs": [],
   "source": [
    "code_num_map = {\n",
    "    0: \"abcefg\",\n",
    "    1: \"cf\",\n",
    "    2: \"acdeg\",\n",
    "    3: \"acdfg\",\n",
    "    4: \"bcdf\",\n",
    "    5: \"abdfg\",\n",
    "    6: \"abdefg\",\n",
    "    7: \"acf\",\n",
    "    8: \"abcdefg\",\n",
    "    9: \"abcdfg\",\n",
    "}"
   ]
  },
  {
   "cell_type": "code",
   "execution_count": 135,
   "metadata": {},
   "outputs": [],
   "source": [
    "def translate_to_int(encode, decode):\n",
    "    cnt_dict = get_letter_cnt(encode)\n",
    "    alc = find_147(encode)\n",
    "    dict_map = get_letter_mapping(cnt_dict, alc)\n",
    "    translated = \"\"\n",
    "    translated_num = \"\"\n",
    "    for number in decode:\n",
    "        for i in number:\n",
    "            translated += list(dict_map.keys())[list(dict_map.values()).index(i)]\n",
    "        for item in code_num_map:\n",
    "            if set(code_num_map[item]) == set(translated):\n",
    "                translated_num += str(item)\n",
    "        translated = \"\"\n",
    "    return int(translated_num)"
   ]
  },
  {
   "cell_type": "code",
   "execution_count": 136,
   "metadata": {},
   "outputs": [
    {
     "data": {
      "text/plain": [
       "4949"
      ]
     },
     "execution_count": 136,
     "metadata": {},
     "output_type": "execute_result"
    }
   ],
   "source": [
    "translate_to_int(code[0], output[0])"
   ]
  },
  {
   "cell_type": "code",
   "execution_count": 138,
   "metadata": {},
   "outputs": [],
   "source": [
    "answer = 0\n",
    "for c, o in zip(code, output):\n",
    "    answer += translate_to_int(c, o)"
   ]
  },
  {
   "cell_type": "code",
   "execution_count": 139,
   "metadata": {},
   "outputs": [
    {
     "data": {
      "text/plain": [
       "1028926"
      ]
     },
     "execution_count": 139,
     "metadata": {},
     "output_type": "execute_result"
    }
   ],
   "source": [
    "answer"
   ]
  },
  {
   "cell_type": "code",
   "execution_count": 140,
   "metadata": {},
   "outputs": [],
   "source": [
    "output_test = [_.split(\" | \")[1].split() for _ in test]\n",
    "code_test = [_.split(\" | \")[0].split() for _ in test]"
   ]
  },
  {
   "cell_type": "code",
   "execution_count": 141,
   "metadata": {},
   "outputs": [],
   "source": [
    "answer = 0\n",
    "for c, o in zip(code_test, output_test):\n",
    "    answer += translate_to_int(c, o)"
   ]
  },
  {
   "cell_type": "code",
   "execution_count": 142,
   "metadata": {},
   "outputs": [
    {
     "data": {
      "text/plain": [
       "61229"
      ]
     },
     "execution_count": 142,
     "metadata": {},
     "output_type": "execute_result"
    }
   ],
   "source": [
    "answer"
   ]
  },
  {
   "cell_type": "code",
   "execution_count": 143,
   "metadata": {},
   "outputs": [
    {
     "data": {
      "text/plain": [
       "8394"
      ]
     },
     "execution_count": 143,
     "metadata": {},
     "output_type": "execute_result"
    }
   ],
   "source": [
    "translate_to_int(code_test[0], output_test[0])"
   ]
  },
  {
   "cell_type": "markdown",
   "metadata": {},
   "source": [
    "## Day9"
   ]
  },
  {
   "cell_type": "code",
   "execution_count": 3,
   "metadata": {},
   "outputs": [],
   "source": [
    "with open(\"Day9/day9.txt\", \"r\") as file:\n",
    "    data = file.read().split(\"\\n\")"
   ]
  },
  {
   "cell_type": "code",
   "execution_count": 169,
   "metadata": {},
   "outputs": [
    {
     "data": {
      "text/plain": [
       "'5678998989432198943298876799876586789998999434988989999876544345789987654545678931299765458679432456'"
      ]
     },
     "execution_count": 169,
     "metadata": {},
     "output_type": "execute_result"
    }
   ],
   "source": [
    "data[0]"
   ]
  },
  {
   "cell_type": "code",
   "execution_count": 4,
   "metadata": {},
   "outputs": [],
   "source": [
    "data = np.array([[int(_) for _ in list(d)] for d in data])"
   ]
  },
  {
   "cell_type": "code",
   "execution_count": 116,
   "metadata": {},
   "outputs": [
    {
     "data": {
      "text/plain": [
       "(100, 100)"
      ]
     },
     "execution_count": 116,
     "metadata": {},
     "output_type": "execute_result"
    }
   ],
   "source": [
    "data.shape"
   ]
  },
  {
   "cell_type": "code",
   "execution_count": 117,
   "metadata": {},
   "outputs": [
    {
     "data": {
      "text/plain": [
       "array([[5, 6, 7, ..., 4, 5, 6],\n",
       "       [4, 5, 5, ..., 3, 4, 7],\n",
       "       [3, 2, 4, ..., 3, 5, 6],\n",
       "       ...,\n",
       "       [9, 5, 4, ..., 2, 3, 4],\n",
       "       [7, 6, 8, ..., 3, 4, 5],\n",
       "       [8, 7, 9, ..., 5, 6, 7]])"
      ]
     },
     "execution_count": 117,
     "metadata": {},
     "output_type": "execute_result"
    }
   ],
   "source": [
    "data"
   ]
  },
  {
   "cell_type": "code",
   "execution_count": 7,
   "metadata": {},
   "outputs": [],
   "source": [
    "ls = []\n",
    "for i in range(100):\n",
    "    for j in range(100):\n",
    "        # top left corner, 2 adjacent points\n",
    "        if (i == 0) & (j == 0):\n",
    "            if (data[i][j] < data[i + 1][j]) & (data[i][j] < data[i][j + 1]):\n",
    "                ls.append(data[i][j])\n",
    "        # top right corner, 2 adjacent points\n",
    "        elif (i == 99) & (j == 0):\n",
    "            if (data[i][j] < data[i - 1][j]) & (data[i][j] < data[i][j + 1]):\n",
    "                ls.append(data[i][j])\n",
    "        # bottom left corner, 2 adjacent points\n",
    "        elif (i == 0) & (j == 99):\n",
    "            if (data[i][j] < data[i + 1][j]) & (data[i][j] < data[i][j - 1]):\n",
    "                ls.append(data[i][j])\n",
    "        # bottom right corner, 2 adjacent points\n",
    "        elif (i == 99) & (j == 99):\n",
    "            if (data[i][j] < data[i - 1][j]) & (data[i][j] < data[i][j - 1]):\n",
    "                ls.append(data[i][j])\n",
    "        # top row, 3 adjacent points\n",
    "        elif (0 < i < 99) & (j == 0):\n",
    "            if (\n",
    "                (data[i][j] < data[i - 1][j])\n",
    "                & (data[i][j] < data[i + 1][j])\n",
    "                & (data[i][j] < data[i][j + 1])\n",
    "            ):\n",
    "                ls.append(data[i][j])\n",
    "        # bottom row, 3 adjacent points\n",
    "        elif (0 < i < 99) & (j == 99):\n",
    "            if (\n",
    "                (data[i][j] < data[i - 1][j])\n",
    "                & (data[i][j] < data[i + 1][j])\n",
    "                & (data[i][j] < data[i][j - 1])\n",
    "            ):\n",
    "                ls.append(data[i][j])\n",
    "        # left col, 3 adjacent points\n",
    "        elif (0 < j < 99) & (i == 0):\n",
    "            if (\n",
    "                (data[i][j] < data[i][j - 1])\n",
    "                & (data[i][j] < data[i][j + 1])\n",
    "                & (data[i][j] < data[i + 1][j])\n",
    "            ):\n",
    "                ls.append(data[i][j])\n",
    "        # right col, 3 adjacent points\n",
    "        elif (0 < j < 99) & (i == 99):\n",
    "            if (\n",
    "                (data[i][j] < data[i][j - 1])\n",
    "                & (data[i][j] < data[i][j + 1])\n",
    "                & (data[i][j] < data[i - 1][j])\n",
    "            ):\n",
    "                ls.append(data[i][j])\n",
    "        else:\n",
    "            if (\n",
    "                (data[i][j] < data[i][j - 1])\n",
    "                & (data[i][j] < data[i][j + 1])\n",
    "                & (data[i][j] < data[i + 1][j])\n",
    "                & (data[i][j] < data[i - 1][j])\n",
    "            ):\n",
    "                ls.append(data[i][j])"
   ]
  },
  {
   "cell_type": "code",
   "execution_count": 8,
   "metadata": {},
   "outputs": [
    {
     "data": {
      "text/plain": [
       "498"
      ]
     },
     "execution_count": 8,
     "metadata": {},
     "output_type": "execute_result"
    }
   ],
   "source": [
    "sum(ls) + len(ls)"
   ]
  },
  {
   "cell_type": "code",
   "execution_count": 10,
   "metadata": {},
   "outputs": [],
   "source": [
    "def find_non_9_x_pos(row: np.array) -> np.array:\n",
    "    x_pos_9 = row != 9\n",
    "    return np.where(x_pos_9)[0]"
   ]
  },
  {
   "cell_type": "code",
   "execution_count": 20,
   "metadata": {},
   "outputs": [],
   "source": [
    "def split_into_consecutive_subarray(x: np.array) -> list:\n",
    "    chunk_ls = []\n",
    "    chunk = []\n",
    "    i = 0\n",
    "    while i < len(x):\n",
    "        if not chunk or (x[i] == chunk[-1] + 1):\n",
    "            chunk.append(x[i])\n",
    "        else:\n",
    "            chunk_ls.append(chunk)\n",
    "            chunk = [x[i]]\n",
    "        i += 1\n",
    "    chunk_ls.append(chunk)\n",
    "    return chunk_ls"
   ]
  },
  {
   "cell_type": "code",
   "execution_count": 56,
   "metadata": {},
   "outputs": [],
   "source": [
    "def common_item(x: list, y: list) -> bool:\n",
    "    if -1 not in y:\n",
    "        if set(x) & set(y):\n",
    "            return True\n",
    "        else:\n",
    "            return False\n",
    "    else:\n",
    "        final_index = max(index for index, item in enumerate(y) if item == -1)\n",
    "        if set(x) & set(y[final_index + 1 :]):\n",
    "            return True\n",
    "        else:\n",
    "            return False"
   ]
  },
  {
   "cell_type": "code",
   "execution_count": 41,
   "metadata": {},
   "outputs": [
    {
     "data": {
      "text/plain": [
       "(5, 10)"
      ]
     },
     "execution_count": 41,
     "metadata": {},
     "output_type": "execute_result"
    }
   ],
   "source": [
    "with open(\"Day9/test.txt\", \"r\") as file:\n",
    "    test = file.read().split(\"\\n\")\n",
    "test = np.array([[int(_) for _ in list(d)] for d in test])\n",
    "test.shape"
   ]
  },
  {
   "cell_type": "code",
   "execution_count": 118,
   "metadata": {},
   "outputs": [],
   "source": [
    "def solution(data):\n",
    "    non_9_x_pos = find_non_9_x_pos(data[0])\n",
    "    basin_ls = split_into_consecutive_subarray(non_9_x_pos)\n",
    "    finished_basin_ls = []\n",
    "    i = 1\n",
    "    while i < len(data):\n",
    "        non_9_x_pos = find_non_9_x_pos(data[i])\n",
    "        row_split = split_into_consecutive_subarray(non_9_x_pos)\n",
    "        new_basin_ls = []\n",
    "        extended_basins_idx = {}\n",
    "        for r in row_split:\n",
    "            match = False\n",
    "            for _ in range(len(basin_ls)):\n",
    "                if common_item(r, basin_ls[_]):\n",
    "                    if _ in extended_basins_idx:\n",
    "                        extended_basins_idx[_].extend(r)\n",
    "                    else:\n",
    "                        extended_basins_idx[_] = r\n",
    "                    match = True\n",
    "                    break\n",
    "            if not match:\n",
    "                new_basin_ls.append(r)\n",
    "        for matched_basin in extended_basins_idx:\n",
    "            basin_ls[matched_basin].extend([-1] + extended_basins_idx[matched_basin])\n",
    "        finished_basin_idx = [\n",
    "            _ for _ in list(range(len(basin_ls))) if _ not in extended_basins_idx\n",
    "        ]\n",
    "        for _ in sorted(finished_basin_idx, reverse=True):\n",
    "            finished_basin_ls.append(basin_ls[_])\n",
    "            # delete finished basins\n",
    "            del basin_ls[_]\n",
    "        basin_ls.extend(new_basin_ls)\n",
    "        i += 1\n",
    "    finished_basin_ls.extend(basin_ls)\n",
    "    return [sum((np.array(_)) != -1) for _ in finished_basin_ls]"
   ]
  },
  {
   "cell_type": "code",
   "execution_count": 125,
   "metadata": {},
   "outputs": [
    {
     "data": {
      "text/plain": [
       "[3, 9, 14, 9]"
      ]
     },
     "execution_count": 125,
     "metadata": {},
     "output_type": "execute_result"
    }
   ],
   "source": [
    "res_test = solution(test)\n",
    "res_test"
   ]
  },
  {
   "cell_type": "code",
   "execution_count": 126,
   "metadata": {},
   "outputs": [],
   "source": [
    "res = solution(data)"
   ]
  },
  {
   "cell_type": "code",
   "execution_count": 122,
   "metadata": {},
   "outputs": [
    {
     "data": {
      "text/plain": [
       "337"
      ]
     },
     "execution_count": 122,
     "metadata": {},
     "output_type": "execute_result"
    }
   ],
   "source": [
    "len(res)"
   ]
  },
  {
   "cell_type": "code",
   "execution_count": 123,
   "metadata": {},
   "outputs": [],
   "source": [
    "res.sort(reverse=True)"
   ]
  },
  {
   "cell_type": "code",
   "execution_count": 124,
   "metadata": {},
   "outputs": [
    {
     "data": {
      "text/plain": [
       "[102, 101, 98]"
      ]
     },
     "execution_count": 124,
     "metadata": {},
     "output_type": "execute_result"
    }
   ],
   "source": [
    "res[:3]"
   ]
  },
  {
   "cell_type": "code",
   "execution_count": 129,
   "metadata": {},
   "outputs": [
    {
     "data": {
      "text/plain": [
       "7410"
      ]
     },
     "execution_count": 129,
     "metadata": {},
     "output_type": "execute_result"
    }
   ],
   "source": [
    "sum(res)"
   ]
  },
  {
   "cell_type": "code",
   "execution_count": 130,
   "metadata": {},
   "outputs": [
    {
     "data": {
      "text/plain": [
       "2590"
      ]
     },
     "execution_count": 130,
     "metadata": {},
     "output_type": "execute_result"
    }
   ],
   "source": [
    "(data == 9).sum()"
   ]
  },
  {
   "cell_type": "code",
   "execution_count": 131,
   "metadata": {},
   "outputs": [
    {
     "data": {
      "text/plain": [
       "10000"
      ]
     },
     "execution_count": 131,
     "metadata": {},
     "output_type": "execute_result"
    }
   ],
   "source": [
    "7410 + 2590"
   ]
  },
  {
   "cell_type": "code",
   "execution_count": 132,
   "metadata": {},
   "outputs": [
    {
     "data": {
      "text/plain": [
       "1061208"
      ]
     },
     "execution_count": 132,
     "metadata": {},
     "output_type": "execute_result"
    }
   ],
   "source": [
    "102 ** 3"
   ]
  },
  {
   "cell_type": "markdown",
   "metadata": {},
   "source": [
    "## Day10"
   ]
  },
  {
   "cell_type": "code",
   "execution_count": 3,
   "metadata": {},
   "outputs": [],
   "source": [
    "with open(\"Day10/day10.txt\", \"r\") as file:\n",
    "    data = file.read().split(\"\\n\")"
   ]
  },
  {
   "cell_type": "code",
   "execution_count": 42,
   "metadata": {},
   "outputs": [],
   "source": [
    "with open(\"Day10/test.txt\", \"r\") as file:\n",
    "    test = file.read().split(\"\\n\")"
   ]
  },
  {
   "cell_type": "code",
   "execution_count": 4,
   "metadata": {},
   "outputs": [
    {
     "data": {
      "text/plain": [
       "'([<{(<{(({<{{{[]<>}<<>()>}<<()()>[()()])}{({()[]}[<>{}])<(<><>)<[]{}>>}>{{((()<>)<[]()>)[{[]<>}(()[])]'"
      ]
     },
     "execution_count": 4,
     "metadata": {},
     "output_type": "execute_result"
    }
   ],
   "source": [
    "data[0]"
   ]
  },
  {
   "cell_type": "code",
   "execution_count": 107,
   "metadata": {},
   "outputs": [],
   "source": [
    "def find_first_invalid_syntax_character(x: str) -> str:\n",
    "    open_ls = []\n",
    "    close_dict = {\")\": \"(\", \"]\": \"[\", \"}\": \"{\", \">\": \"<\"}\n",
    "    for i in x:\n",
    "        if i in close_dict:\n",
    "            if not open_ls:\n",
    "                return i\n",
    "            elif open_ls[-1] == close_dict[i]:\n",
    "                open_ls.pop()\n",
    "            else:\n",
    "                return i\n",
    "        else:\n",
    "            open_ls.append(i)\n",
    "    return open_ls"
   ]
  },
  {
   "cell_type": "code",
   "execution_count": 108,
   "metadata": {},
   "outputs": [
    {
     "data": {
      "text/plain": [
       "'}'"
      ]
     },
     "execution_count": 108,
     "metadata": {},
     "output_type": "execute_result"
    }
   ],
   "source": [
    "find_first_invalid_syntax_character(test[2])"
   ]
  },
  {
   "cell_type": "code",
   "execution_count": 109,
   "metadata": {},
   "outputs": [],
   "source": [
    "def calc_syntax_error_score(ls: list) -> int:\n",
    "    score = {\")\": 3, \"]\": 57, \"}\": 1197, \">\": 25137}\n",
    "    res = 0\n",
    "    for i in ls:\n",
    "        char = find_first_invalid_syntax_character(i)\n",
    "        if type(char) is not list:\n",
    "            res += score[char]\n",
    "    return res"
   ]
  },
  {
   "cell_type": "code",
   "execution_count": 110,
   "metadata": {},
   "outputs": [
    {
     "data": {
      "text/plain": [
       "26397"
      ]
     },
     "execution_count": 110,
     "metadata": {},
     "output_type": "execute_result"
    }
   ],
   "source": [
    "calc_syntax_error_score(test)"
   ]
  },
  {
   "cell_type": "code",
   "execution_count": 111,
   "metadata": {},
   "outputs": [
    {
     "data": {
      "text/plain": [
       "339537"
      ]
     },
     "execution_count": 111,
     "metadata": {},
     "output_type": "execute_result"
    }
   ],
   "source": [
    "calc_syntax_error_score(data)"
   ]
  },
  {
   "cell_type": "code",
   "execution_count": 112,
   "metadata": {},
   "outputs": [],
   "source": [
    "def find_autocomplete_string(x: str) -> str:\n",
    "    open_dict = {\"(\": \")\", \"[\": \"]\", \"{\": \"}\", \"<\": \">\"}\n",
    "    autocomplete = \"\"\n",
    "    for _ in x[::-1]:\n",
    "        autocomplete += open_dict[_]\n",
    "    return autocomplete"
   ]
  },
  {
   "cell_type": "code",
   "execution_count": 103,
   "metadata": {},
   "outputs": [
    {
     "data": {
      "text/plain": [
       "'}}]])})]'"
      ]
     },
     "execution_count": 103,
     "metadata": {},
     "output_type": "execute_result"
    }
   ],
   "source": [
    "find_first_invalid_syntax_character_or_autocomplete(test[0])"
   ]
  },
  {
   "cell_type": "code",
   "execution_count": 113,
   "metadata": {},
   "outputs": [],
   "source": [
    "def calc_complete_score(x: str) -> int:\n",
    "    score = {\")\": 1, \"]\": 2, \"}\": 3, \">\": 4}\n",
    "    res = 0\n",
    "    for i in x:\n",
    "        res *= 5\n",
    "        res += score[i]\n",
    "    return res"
   ]
  },
  {
   "cell_type": "code",
   "execution_count": 105,
   "metadata": {},
   "outputs": [
    {
     "data": {
      "text/plain": [
       "288957"
      ]
     },
     "execution_count": 105,
     "metadata": {},
     "output_type": "execute_result"
    }
   ],
   "source": [
    "calc_complete_score(\"}}]])})]\")"
   ]
  },
  {
   "cell_type": "code",
   "execution_count": 114,
   "metadata": {},
   "outputs": [],
   "source": [
    "def calc_median(ls: list) -> int:\n",
    "    import statistics\n",
    "    complete_score_ls = []\n",
    "    for i in ls:\n",
    "        res = find_first_invalid_syntax_character(i)\n",
    "        if type(res) is list:\n",
    "            complete_string = find_autocomplete_string(res)\n",
    "            complete_score = calc_complete_score(complete_string)\n",
    "            complete_score_ls.append(complete_score)\n",
    "    return statistics.median(complete_score_ls)"
   ]
  },
  {
   "cell_type": "code",
   "execution_count": 115,
   "metadata": {},
   "outputs": [
    {
     "data": {
      "text/plain": [
       "288957"
      ]
     },
     "execution_count": 115,
     "metadata": {},
     "output_type": "execute_result"
    }
   ],
   "source": [
    "calc_median(test)"
   ]
  },
  {
   "cell_type": "code",
   "execution_count": 116,
   "metadata": {},
   "outputs": [
    {
     "data": {
      "text/plain": [
       "2412013412"
      ]
     },
     "execution_count": 116,
     "metadata": {},
     "output_type": "execute_result"
    }
   ],
   "source": [
    "calc_median(data)"
   ]
  },
  {
   "cell_type": "markdown",
   "metadata": {},
   "source": [
    "## Day11"
   ]
  },
  {
   "cell_type": "code",
   "execution_count": 186,
   "metadata": {},
   "outputs": [],
   "source": [
    "with open(\"Day11/day11.txt\", \"r\") as file:\n",
    "    data = file.read().split(\"\\n\")"
   ]
  },
  {
   "cell_type": "code",
   "execution_count": 187,
   "metadata": {},
   "outputs": [],
   "source": [
    "with open(\"Day11/test.txt\", \"r\") as file:\n",
    "    test = file.read().split(\"\\n\")"
   ]
  },
  {
   "cell_type": "code",
   "execution_count": 188,
   "metadata": {},
   "outputs": [],
   "source": [
    "data = np.array([[int(_) for _ in list(d)] for d in data])"
   ]
  },
  {
   "cell_type": "code",
   "execution_count": 189,
   "metadata": {},
   "outputs": [],
   "source": [
    "test = np.array([[int(_) for _ in list(d)] for d in test])"
   ]
  },
  {
   "cell_type": "code",
   "execution_count": 119,
   "metadata": {},
   "outputs": [
    {
     "data": {
      "text/plain": [
       "array([[6, 2, 2, 7, 6, 1, 8, 5, 3, 6],\n",
       "       [2, 3, 6, 8, 1, 5, 8, 3, 8, 4],\n",
       "       [5, 3, 8, 5, 4, 1, 4, 1, 1, 3],\n",
       "       [4, 5, 5, 6, 7, 5, 7, 5, 2, 3],\n",
       "       [6, 7, 4, 6, 4, 8, 6, 7, 2, 4],\n",
       "       [4, 8, 8, 1, 3, 2, 3, 8, 8, 4],\n",
       "       [4, 6, 4, 8, 2, 6, 3, 7, 4, 4],\n",
       "       [4, 8, 7, 1, 3, 3, 2, 8, 7, 2],\n",
       "       [4, 7, 2, 4, 1, 2, 8, 2, 2, 8],\n",
       "       [4, 3, 1, 6, 5, 1, 2, 1, 6, 7]])"
      ]
     },
     "execution_count": 119,
     "metadata": {},
     "output_type": "execute_result"
    }
   ],
   "source": [
    "data"
   ]
  },
  {
   "cell_type": "code",
   "execution_count": 120,
   "metadata": {},
   "outputs": [
    {
     "data": {
      "text/plain": [
       "(array([0, 1, 1, 1, 2, 4, 5, 5, 5, 5, 6, 7, 7, 8, 8], dtype=int64),\n",
       " array([6, 3, 6, 8, 2, 5, 1, 2, 7, 8, 3, 1, 7, 6, 9], dtype=int64))"
      ]
     },
     "execution_count": 120,
     "metadata": {},
     "output_type": "execute_result"
    }
   ],
   "source": [
    "np.where(data == 8)"
   ]
  },
  {
   "cell_type": "code",
   "execution_count": 121,
   "metadata": {},
   "outputs": [
    {
     "data": {
      "text/plain": [
       "array([0, 1, 1, 1, 2, 4, 5, 5, 5, 5, 6, 7, 7, 8, 8], dtype=int64)"
      ]
     },
     "execution_count": 121,
     "metadata": {},
     "output_type": "execute_result"
    }
   ],
   "source": [
    "np.where(data == 8)[0]"
   ]
  },
  {
   "cell_type": "code",
   "execution_count": 122,
   "metadata": {},
   "outputs": [
    {
     "data": {
      "text/plain": [
       "array([6, 3, 6, 8, 2, 5, 1, 2, 7, 8, 3, 1, 7, 6, 9], dtype=int64)"
      ]
     },
     "execution_count": 122,
     "metadata": {},
     "output_type": "execute_result"
    }
   ],
   "source": [
    "np.where(data == 8)[1]"
   ]
  },
  {
   "cell_type": "code",
   "execution_count": 135,
   "metadata": {},
   "outputs": [],
   "source": [
    "def flash(data: np.array, loc: tuple) -> np.array:\n",
    "    import itertools\n",
    "\n",
    "    i, j = loc\n",
    "    a = list(range(max(i - 1, 0), min(i + 1, 9) + 1))\n",
    "    b = list(range(max(j - 1, 0), min(j + 1, 9) + 1))\n",
    "    locs = list(itertools.product(a, b))\n",
    "    for l in locs:\n",
    "        if l != loc:\n",
    "            x, y = l\n",
    "            data[x][y] += 1\n",
    "    return data"
   ]
  },
  {
   "cell_type": "code",
   "execution_count": 156,
   "metadata": {},
   "outputs": [],
   "source": [
    "def step(data: np.array) -> np.array:\n",
    "    data += 1\n",
    "    flash_locs = zip(np.where(data > 9)[0], np.where(data > 9)[1])\n",
    "    flashed = []\n",
    "    while True:\n",
    "        for flash_loc in flash_locs:\n",
    "            data = flash(data, flash_loc)\n",
    "            flashed.append(flash_loc)\n",
    "        flash_locs_new = zip(np.where(data > 9)[0], np.where(data > 9)[1])\n",
    "        flash_locs = [f for f in flash_locs_new if f not in flashed]\n",
    "        if len(flash_locs) == 0:\n",
    "            break\n",
    "    return data"
   ]
  },
  {
   "cell_type": "code",
   "execution_count": 167,
   "metadata": {},
   "outputs": [],
   "source": [
    "cnt = 0\n",
    "for i in range(100):\n",
    "    test = step(test)\n",
    "    cnt += (test > 9).sum()\n",
    "    test[test > 9] = 0"
   ]
  },
  {
   "cell_type": "code",
   "execution_count": 168,
   "metadata": {},
   "outputs": [
    {
     "data": {
      "text/plain": [
       "1656"
      ]
     },
     "execution_count": 168,
     "metadata": {},
     "output_type": "execute_result"
    }
   ],
   "source": [
    "cnt"
   ]
  },
  {
   "cell_type": "code",
   "execution_count": 171,
   "metadata": {},
   "outputs": [],
   "source": [
    "cnt = 0\n",
    "for i in range(100):\n",
    "    data = step(data)\n",
    "    cnt += (data > 9).sum()\n",
    "    data[data > 9] = 0"
   ]
  },
  {
   "cell_type": "code",
   "execution_count": 172,
   "metadata": {},
   "outputs": [
    {
     "data": {
      "text/plain": [
       "1681"
      ]
     },
     "execution_count": 172,
     "metadata": {},
     "output_type": "execute_result"
    }
   ],
   "source": [
    "cnt"
   ]
  },
  {
   "cell_type": "code",
   "execution_count": 190,
   "metadata": {},
   "outputs": [],
   "source": [
    "i = 0\n",
    "while 1:\n",
    "    data = step(data)\n",
    "    cnt = (data > 9).sum()\n",
    "    if cnt == 100:\n",
    "        break\n",
    "    data[data > 9] = 0\n",
    "    i += 1"
   ]
  },
  {
   "cell_type": "code",
   "execution_count": 191,
   "metadata": {},
   "outputs": [
    {
     "data": {
      "text/plain": [
       "275"
      ]
     },
     "execution_count": 191,
     "metadata": {},
     "output_type": "execute_result"
    }
   ],
   "source": [
    "i"
   ]
  },
  {
   "cell_type": "markdown",
   "metadata": {},
   "source": [
    "## Day12"
   ]
  },
  {
   "cell_type": "code",
   "execution_count": 192,
   "metadata": {},
   "outputs": [],
   "source": [
    "with open(\"Day12/day12.txt\", \"r\") as file:\n",
    "    data = file.read().split(\"\\n\")"
   ]
  },
  {
   "cell_type": "code",
   "execution_count": 270,
   "metadata": {},
   "outputs": [],
   "source": [
    "with open(\"Day12/test1.txt\", \"r\") as file:\n",
    "    test1 = file.read().split(\"\\n\")"
   ]
  },
  {
   "cell_type": "code",
   "execution_count": 271,
   "metadata": {},
   "outputs": [],
   "source": [
    "with open(\"Day12/test2.txt\", \"r\") as file:\n",
    "    test2 = file.read().split(\"\\n\")"
   ]
  },
  {
   "cell_type": "code",
   "execution_count": 272,
   "metadata": {},
   "outputs": [],
   "source": [
    "with open(\"Day12/test3.txt\", \"r\") as file:\n",
    "    test3 = file.read().split(\"\\n\")"
   ]
  },
  {
   "cell_type": "code",
   "execution_count": 193,
   "metadata": {},
   "outputs": [
    {
     "data": {
      "text/plain": [
       "['ln-nr',\n",
       " 'ln-wy',\n",
       " 'fl-XI',\n",
       " 'qc-start',\n",
       " 'qq-wy',\n",
       " 'qc-ln',\n",
       " 'ZD-nr',\n",
       " 'qc-YN',\n",
       " 'XI-wy',\n",
       " 'ln-qq',\n",
       " 'ln-XI',\n",
       " 'YN-start',\n",
       " 'qq-XI',\n",
       " 'nr-XI',\n",
       " 'start-qq',\n",
       " 'qq-qc',\n",
       " 'end-XI',\n",
       " 'qq-YN',\n",
       " 'ln-YN',\n",
       " 'end-wy',\n",
       " 'qc-nr',\n",
       " 'end-nr']"
      ]
     },
     "execution_count": 193,
     "metadata": {},
     "output_type": "execute_result"
    }
   ],
   "source": [
    "data"
   ]
  },
  {
   "cell_type": "code",
   "execution_count": 457,
   "metadata": {},
   "outputs": [],
   "source": [
    "# code adapted from https://www.geeksforgeeks.org/find-paths-given-source-destination/\n",
    "# Recursive function + Depth First Search\n",
    "from collections import defaultdict\n",
    "\n",
    "# This class represents a directed graph using adjacency list representation\n",
    "class Graph:\n",
    "    def __init__(self, vertices):\n",
    "        # list of vertices\n",
    "        self.V = vertices\n",
    "        # default dictionary to store graph\n",
    "        self.graph = defaultdict(list)\n",
    "        self.path_cnt = 0\n",
    "\n",
    "    # function to add an edge to graph\n",
    "    def addEdge(self, u, v):\n",
    "        self.graph[u].append(v)\n",
    "\n",
    "    def printAllPathsUtil(self, u, d, visited, path):\n",
    "\n",
    "        # Mark the current node as visited and store in path\n",
    "        if u == \"start\":\n",
    "            visited[u] = True\n",
    "        path.append(u)\n",
    "\n",
    "        # If current vertex is same as destination, then print current path[]\n",
    "        if u == d:\n",
    "            # print(path)\n",
    "            self.path_cnt += 1\n",
    "        else:\n",
    "            # If current vertex is not destination Recur for all the vertices adjacent to this vertex\n",
    "            for i in self.graph[u]:\n",
    "                if visited[i] == False:\n",
    "                    if not i.isupper():\n",
    "                        visited[i] = True\n",
    "                    self.printAllPathsUtil(i, d, visited, path)\n",
    "\n",
    "        # if current path not leads to end, revert one step back => Remove current vertex from path[] and mark it as unvisited\n",
    "        path.pop()\n",
    "        visited[u] = False\n",
    "\n",
    "    def printAllPaths(self, s, d):\n",
    "        # Mark all the vertices as not visited\n",
    "        visited = {v: False for v in self.V}\n",
    "        # Create an array to store paths\n",
    "        path = []\n",
    "        # Call the recursive helper function to print all paths\n",
    "        self.printAllPathsUtil(s, d, visited, path)\n",
    "        print(self.path_cnt)"
   ]
  },
  {
   "cell_type": "code",
   "execution_count": 458,
   "metadata": {},
   "outputs": [],
   "source": [
    "def experiment(data):\n",
    "    vertices = list(set([_ for ls in [d.split(\"-\") for d in data] for _ in ls]))\n",
    "    # Create a graph given in the above diagram\n",
    "    g = Graph(vertices)\n",
    "    for d in data:\n",
    "        s, e = d.split(\"-\")\n",
    "        g.addEdge(s, e)\n",
    "        g.addEdge(e, s)\n",
    "    g.printAllPaths(\"start\", \"end\")"
   ]
  },
  {
   "cell_type": "code",
   "execution_count": 459,
   "metadata": {},
   "outputs": [
    {
     "name": "stdout",
     "output_type": "stream",
     "text": [
      "10\n"
     ]
    }
   ],
   "source": [
    "experiment(test1)"
   ]
  },
  {
   "cell_type": "code",
   "execution_count": 460,
   "metadata": {},
   "outputs": [
    {
     "name": "stdout",
     "output_type": "stream",
     "text": [
      "19\n"
     ]
    }
   ],
   "source": [
    "experiment(test2)"
   ]
  },
  {
   "cell_type": "code",
   "execution_count": 461,
   "metadata": {},
   "outputs": [
    {
     "name": "stdout",
     "output_type": "stream",
     "text": [
      "4773\n"
     ]
    }
   ],
   "source": [
    "experiment(data)"
   ]
  },
  {
   "cell_type": "code",
   "execution_count": 462,
   "metadata": {},
   "outputs": [],
   "source": [
    "class Graph2(Graph):\n",
    "    def __init__(self, vertices):\n",
    "        super().__init__(vertices)\n",
    "\n",
    "    def printAllPathsUtil(self, u, d, visited, path, check):\n",
    "\n",
    "        # Mark the current node as visited and store in path\n",
    "        if u == \"start\":\n",
    "            visited[u] = True\n",
    "        path.append(u)\n",
    "\n",
    "        # If current vertex is same as destination, then print current path[]\n",
    "        if u == d:\n",
    "            #             print(path)\n",
    "            self.path_cnt += 1\n",
    "        else:\n",
    "            # If current vertex is not destination Recur for all the vertices adjacent to this vertex\n",
    "            for i in self.graph[u]:\n",
    "                if visited[i] == False:\n",
    "                    if not i.isupper():\n",
    "                        if (check[i] == 0) and (max(check.values()) <= 1):\n",
    "                            check[i] += 1\n",
    "                        elif (check[i] == 1) and (max(check.values()) <= 1):\n",
    "                            check[i] += 1\n",
    "                            visited[i] = True\n",
    "                        elif (check[i] == 1) and (max(check.values()) == 2):\n",
    "                            continue\n",
    "                        else:\n",
    "                            check[i] += 1\n",
    "                            visited[i] = True\n",
    "                    self.printAllPathsUtil(i, d, visited, path, check)\n",
    "\n",
    "        # if current path not leads to end, revert one step back => Remove current vertex from path[] and mark it as unvisited\n",
    "        path.pop()\n",
    "        visited[u] = False\n",
    "        if not u.isupper():\n",
    "            check[u] -= 1\n",
    "\n",
    "    def printAllPaths(self, s, d):\n",
    "        # Mark all the vertices as not visited\n",
    "        visited = {v: False for v in self.V}\n",
    "        # Create an array to store paths\n",
    "        path = []\n",
    "        # Call the recursive helper function to print all paths\n",
    "        check = {v: 0 for v in self.V if not v.isupper()}\n",
    "        self.printAllPathsUtil(s, d, visited, path, check)\n",
    "        print(self.path_cnt)"
   ]
  },
  {
   "cell_type": "code",
   "execution_count": 463,
   "metadata": {},
   "outputs": [],
   "source": [
    "def experiment2(data):\n",
    "    vertices = list(set([_ for ls in [d.split(\"-\") for d in data] for _ in ls]))\n",
    "    # Create a graph given in the above diagram\n",
    "    g = Graph2(vertices)\n",
    "    for d in data:\n",
    "        s, e = d.split(\"-\")\n",
    "        g.addEdge(s, e)\n",
    "        g.addEdge(e, s)\n",
    "    g.printAllPaths(\"start\", \"end\")"
   ]
  },
  {
   "cell_type": "code",
   "execution_count": 464,
   "metadata": {},
   "outputs": [
    {
     "name": "stdout",
     "output_type": "stream",
     "text": [
      "36\n"
     ]
    }
   ],
   "source": [
    "experiment2(test1)"
   ]
  },
  {
   "cell_type": "code",
   "execution_count": 465,
   "metadata": {},
   "outputs": [
    {
     "name": "stdout",
     "output_type": "stream",
     "text": [
      "103\n"
     ]
    }
   ],
   "source": [
    "experiment2(test2)"
   ]
  },
  {
   "cell_type": "code",
   "execution_count": 466,
   "metadata": {},
   "outputs": [
    {
     "name": "stdout",
     "output_type": "stream",
     "text": [
      "3509\n"
     ]
    }
   ],
   "source": [
    "experiment2(test3)"
   ]
  },
  {
   "cell_type": "code",
   "execution_count": 467,
   "metadata": {},
   "outputs": [
    {
     "name": "stdout",
     "output_type": "stream",
     "text": [
      "116985\n"
     ]
    }
   ],
   "source": [
    "experiment2(data)"
   ]
  },
  {
   "cell_type": "markdown",
   "metadata": {},
   "source": [
    "## Day13"
   ]
  },
  {
   "cell_type": "code",
   "execution_count": 538,
   "metadata": {},
   "outputs": [
    {
     "name": "stderr",
     "output_type": "stream",
     "text": [
      "C:\\Users\\T490S\\Anaconda3\\lib\\site-packages\\ipykernel_launcher.py:3: SettingWithCopyWarning: \n",
      "A value is trying to be set on a copy of a slice from a DataFrame.\n",
      "Try using .loc[row_indexer,col_indexer] = value instead\n",
      "\n",
      "See the caveats in the documentation: http://pandas.pydata.org/pandas-docs/stable/user_guide/indexing.html#returning-a-view-versus-a-copy\n",
      "  This is separate from the ipykernel package so we can avoid doing imports until\n",
      "C:\\Users\\T490S\\Anaconda3\\lib\\site-packages\\ipykernel_launcher.py:4: SettingWithCopyWarning: \n",
      "A value is trying to be set on a copy of a slice from a DataFrame.\n",
      "Try using .loc[row_indexer,col_indexer] = value instead\n",
      "\n",
      "See the caveats in the documentation: http://pandas.pydata.org/pandas-docs/stable/user_guide/indexing.html#returning-a-view-versus-a-copy\n",
      "  after removing the cwd from sys.path.\n"
     ]
    }
   ],
   "source": [
    "data = pd.read_csv(\"Day13/day13.txt\", header=None, sep=\",\", names=[\"x\", \"y\"])\n",
    "dots = data[~data[\"y\"].isnull()]\n",
    "dots[\"x\"] = dots.x.astype(int)\n",
    "dots[\"y\"] = dots.y.astype(int)\n",
    "folds = data[data[\"y\"].isnull()][\"x\"].to_list()"
   ]
  },
  {
   "cell_type": "code",
   "execution_count": 539,
   "metadata": {},
   "outputs": [
    {
     "data": {
      "text/html": [
       "<div>\n",
       "<style scoped>\n",
       "    .dataframe tbody tr th:only-of-type {\n",
       "        vertical-align: middle;\n",
       "    }\n",
       "\n",
       "    .dataframe tbody tr th {\n",
       "        vertical-align: top;\n",
       "    }\n",
       "\n",
       "    .dataframe thead th {\n",
       "        text-align: right;\n",
       "    }\n",
       "</style>\n",
       "<table border=\"1\" class=\"dataframe\">\n",
       "  <thead>\n",
       "    <tr style=\"text-align: right;\">\n",
       "      <th></th>\n",
       "      <th>x</th>\n",
       "      <th>y</th>\n",
       "    </tr>\n",
       "  </thead>\n",
       "  <tbody>\n",
       "    <tr>\n",
       "      <th>0</th>\n",
       "      <td>726</td>\n",
       "      <td>774</td>\n",
       "    </tr>\n",
       "    <tr>\n",
       "      <th>1</th>\n",
       "      <td>246</td>\n",
       "      <td>695</td>\n",
       "    </tr>\n",
       "    <tr>\n",
       "      <th>2</th>\n",
       "      <td>579</td>\n",
       "      <td>249</td>\n",
       "    </tr>\n",
       "  </tbody>\n",
       "</table>\n",
       "</div>"
      ],
      "text/plain": [
       "     x    y\n",
       "0  726  774\n",
       "1  246  695\n",
       "2  579  249"
      ]
     },
     "execution_count": 539,
     "metadata": {},
     "output_type": "execute_result"
    }
   ],
   "source": [
    "dots.head(3)"
   ]
  },
  {
   "cell_type": "code",
   "execution_count": 540,
   "metadata": {},
   "outputs": [
    {
     "data": {
      "text/plain": [
       "['fold along x=655',\n",
       " 'fold along y=447',\n",
       " 'fold along x=327',\n",
       " 'fold along y=223',\n",
       " 'fold along x=163',\n",
       " 'fold along y=111',\n",
       " 'fold along x=81',\n",
       " 'fold along y=55',\n",
       " 'fold along x=40',\n",
       " 'fold along y=27',\n",
       " 'fold along y=13',\n",
       " 'fold along y=6']"
      ]
     },
     "execution_count": 540,
     "metadata": {},
     "output_type": "execute_result"
    }
   ],
   "source": [
    "folds"
   ]
  },
  {
   "cell_type": "code",
   "execution_count": 541,
   "metadata": {},
   "outputs": [],
   "source": [
    "folds = [\n",
    "    (fold.split()[-1].split(\"=\")[0], int(fold.split()[-1].split(\"=\")[1]))\n",
    "    for fold in folds\n",
    "]"
   ]
  },
  {
   "cell_type": "code",
   "execution_count": 542,
   "metadata": {},
   "outputs": [
    {
     "data": {
      "text/plain": [
       "[('x', 655),\n",
       " ('y', 447),\n",
       " ('x', 327),\n",
       " ('y', 223),\n",
       " ('x', 163),\n",
       " ('y', 111),\n",
       " ('x', 81),\n",
       " ('y', 55),\n",
       " ('x', 40),\n",
       " ('y', 27),\n",
       " ('y', 13),\n",
       " ('y', 6)]"
      ]
     },
     "execution_count": 542,
     "metadata": {},
     "output_type": "execute_result"
    }
   ],
   "source": [
    "folds"
   ]
  },
  {
   "cell_type": "code",
   "execution_count": 508,
   "metadata": {},
   "outputs": [
    {
     "data": {
      "text/plain": [
       "1310"
      ]
     },
     "execution_count": 508,
     "metadata": {},
     "output_type": "execute_result"
    }
   ],
   "source": [
    "dots.x.max()"
   ]
  },
  {
   "cell_type": "code",
   "execution_count": 509,
   "metadata": {},
   "outputs": [
    {
     "data": {
      "text/plain": [
       "894"
      ]
     },
     "execution_count": 509,
     "metadata": {},
     "output_type": "execute_result"
    }
   ],
   "source": [
    "dots.y.max()"
   ]
  },
  {
   "cell_type": "code",
   "execution_count": 572,
   "metadata": {},
   "outputs": [],
   "source": [
    "res = np.zeros(shape=(dots.x.max() + 1, dots.y.max() + 1))\n",
    "for idx, row in dots.iterrows():\n",
    "    x = row[\"x\"]\n",
    "    y = row[\"y\"]\n",
    "    res[x][y] = 1"
   ]
  },
  {
   "cell_type": "code",
   "execution_count": 567,
   "metadata": {},
   "outputs": [
    {
     "data": {
      "text/plain": [
       "(799, 2)"
      ]
     },
     "execution_count": 567,
     "metadata": {},
     "output_type": "execute_result"
    }
   ],
   "source": [
    "dots.shape"
   ]
  },
  {
   "cell_type": "code",
   "execution_count": 568,
   "metadata": {},
   "outputs": [],
   "source": [
    "def fold(data: np.array, axis: str, distance: int) -> np.array:\n",
    "    dots = zip(np.where(data == 1)[0], np.where(data == 1)[1])\n",
    "    for x, y in dots:\n",
    "        if axis == \"x\":\n",
    "            if x <= distance:\n",
    "                data[x][y] = 1\n",
    "            else:\n",
    "                data[distance * 2 - x][y] = 1\n",
    "        else:\n",
    "            if y <= distance:\n",
    "                data[x][y] = 1\n",
    "            else:\n",
    "                data[x][distance * 2 - y] = 1\n",
    "    if axis == \"x\":\n",
    "        data = data[: distance + 1, :]\n",
    "    else:\n",
    "        data = data[:, : distance + 1]\n",
    "    return data"
   ]
  },
  {
   "cell_type": "code",
   "execution_count": 573,
   "metadata": {},
   "outputs": [],
   "source": [
    "for axis, distance in folds:\n",
    "    res = fold(res, axis, distance)"
   ]
  },
  {
   "cell_type": "code",
   "execution_count": 576,
   "metadata": {},
   "outputs": [
    {
     "data": {
      "text/plain": [
       "<matplotlib.image.AxesImage at 0x21f8365d860>"
      ]
     },
     "execution_count": 576,
     "metadata": {},
     "output_type": "execute_result"
    },
    {
     "data": {
      "image/png": "[encoded data removed]",
      "text/plain": [
       "<Figure size 432x288 with 1 Axes>"
      ]
     },
     "metadata": {
      "needs_background": "light"
     },
     "output_type": "display_data"
    }
   ],
   "source": [
    "import matplotlib.pyplot as plt\n",
    "\n",
    "plt.imshow(res)"
   ]
  },
  {
   "cell_type": "markdown",
   "metadata": {},
   "source": [
    "## Day14"
   ]
  },
  {
   "cell_type": "code",
   "execution_count": 670,
   "metadata": {},
   "outputs": [],
   "source": [
    "template = \"KHSNHFKVVSVPSCVHBHNP\"\n",
    "data = pd.read_csv(\n",
    "    \"Day14/day14.txt\",\n",
    "    header=None,\n",
    "    engine=\"python\",\n",
    "    sep=\" -> \",\n",
    "    names=[\"pair\", \"insertion\"],\n",
    ")"
   ]
  },
  {
   "cell_type": "code",
   "execution_count": 647,
   "metadata": {},
   "outputs": [],
   "source": [
    "template_test = \"NNCB\"\n",
    "test = pd.read_csv(\n",
    "    \"Day14/test.txt\",\n",
    "    header=None,\n",
    "    engine=\"python\",\n",
    "    sep=\" -> \",\n",
    "    names=[\"pair\", \"insertion\"],\n",
    ")"
   ]
  },
  {
   "cell_type": "code",
   "execution_count": 581,
   "metadata": {},
   "outputs": [
    {
     "data": {
      "text/html": [
       "<div>\n",
       "<style scoped>\n",
       "    .dataframe tbody tr th:only-of-type {\n",
       "        vertical-align: middle;\n",
       "    }\n",
       "\n",
       "    .dataframe tbody tr th {\n",
       "        vertical-align: top;\n",
       "    }\n",
       "\n",
       "    .dataframe thead th {\n",
       "        text-align: right;\n",
       "    }\n",
       "</style>\n",
       "<table border=\"1\" class=\"dataframe\">\n",
       "  <thead>\n",
       "    <tr style=\"text-align: right;\">\n",
       "      <th></th>\n",
       "      <th>pair</th>\n",
       "      <th>insertion</th>\n",
       "    </tr>\n",
       "  </thead>\n",
       "  <tbody>\n",
       "    <tr>\n",
       "      <th>0</th>\n",
       "      <td>FV</td>\n",
       "      <td>H</td>\n",
       "    </tr>\n",
       "    <tr>\n",
       "      <th>1</th>\n",
       "      <td>SB</td>\n",
       "      <td>P</td>\n",
       "    </tr>\n",
       "    <tr>\n",
       "      <th>2</th>\n",
       "      <td>NV</td>\n",
       "      <td>S</td>\n",
       "    </tr>\n",
       "  </tbody>\n",
       "</table>\n",
       "</div>"
      ],
      "text/plain": [
       "  pair insertion\n",
       "0   FV         H\n",
       "1   SB         P\n",
       "2   NV         S"
      ]
     },
     "execution_count": 581,
     "metadata": {},
     "output_type": "execute_result"
    }
   ],
   "source": [
    "data.head(3)"
   ]
  },
  {
   "cell_type": "code",
   "execution_count": 582,
   "metadata": {},
   "outputs": [
    {
     "data": {
      "text/plain": [
       "(100, 2)"
      ]
     },
     "execution_count": 582,
     "metadata": {},
     "output_type": "execute_result"
    }
   ],
   "source": [
    "data.shape"
   ]
  },
  {
   "cell_type": "code",
   "execution_count": 691,
   "metadata": {},
   "outputs": [],
   "source": [
    "def get_polymer(data: pd.DataFrame, template: str, steps: int) -> str:\n",
    "    for _ in range(steps):\n",
    "        data[\"match\"] = data.pair.apply(\n",
    "            lambda x: [i for i in range(len(template)) if template.startswith(x, i)]\n",
    "        )\n",
    "        match_flat = [item for sublist in data.match.to_list() for item in sublist]\n",
    "        match_flat = sorted(match_flat)\n",
    "        i = 0\n",
    "        new_string = \"\"\n",
    "        while i < len(match_flat):\n",
    "            row = data[data.match.apply(lambda x: match_flat[i] in x)]\n",
    "            if i < len(match_flat) - 1:\n",
    "                if match_flat[i + 1] == match_flat[i] + 1:\n",
    "                    new_string += (\n",
    "                        row[\"pair\"].values[0][0] + row[\"insertion\"].values[0][0]\n",
    "                    )\n",
    "                else:\n",
    "                    new_string += (\n",
    "                        row[\"pair\"].values[0][0]\n",
    "                        + row[\"insertion\"].values[0][0]\n",
    "                        + template[match_flat[i] + 1 : match_flat[i + 1]]\n",
    "                    )\n",
    "            else:\n",
    "                new_string += (\n",
    "                    row[\"pair\"].values[0][0]\n",
    "                    + row[\"insertion\"].values[0][0]\n",
    "                    + template[match_flat[i] + 1 :]\n",
    "                )\n",
    "            i += 1\n",
    "        template = new_string\n",
    "    return template"
   ]
  },
  {
   "cell_type": "code",
   "execution_count": 692,
   "metadata": {},
   "outputs": [
    {
     "data": {
      "text/plain": [
       "'NCNBCHB'"
      ]
     },
     "execution_count": 692,
     "metadata": {},
     "output_type": "execute_result"
    }
   ],
   "source": [
    "get_polymer(test, template_test, 1)"
   ]
  },
  {
   "cell_type": "code",
   "execution_count": 693,
   "metadata": {},
   "outputs": [
    {
     "data": {
      "text/plain": [
       "'NBCCNBBBCBHCB'"
      ]
     },
     "execution_count": 693,
     "metadata": {},
     "output_type": "execute_result"
    }
   ],
   "source": [
    "# NBCCNBBBCBHCB\n",
    "get_polymer(test, template_test, 2)"
   ]
  },
  {
   "cell_type": "code",
   "execution_count": 694,
   "metadata": {},
   "outputs": [
    {
     "data": {
      "text/plain": [
       "'NBBBCNCCNBBNBNBBCHBHHBCHB'"
      ]
     },
     "execution_count": 694,
     "metadata": {},
     "output_type": "execute_result"
    }
   ],
   "source": [
    "# NBBBCNCCNBBNBNBBCHBHHBCHB\n",
    "get_polymer(test, template_test, 3)"
   ]
  },
  {
   "cell_type": "code",
   "execution_count": 695,
   "metadata": {},
   "outputs": [
    {
     "data": {
      "text/plain": [
       "'NBBNBNBBCCNBCNCCNBBNBBNBBBNBBNBBCBHCBHHNHCBBCBHCB'"
      ]
     },
     "execution_count": 695,
     "metadata": {},
     "output_type": "execute_result"
    }
   ],
   "source": [
    "# NBBNBNBBCCNBCNCCNBBNBBNBBBNBBNBBCBHCBHHNHCBBCBHCB\n",
    "get_polymer(test, template_test, 4)"
   ]
  },
  {
   "cell_type": "code",
   "execution_count": 701,
   "metadata": {},
   "outputs": [
    {
     "name": "stdout",
     "output_type": "stream",
     "text": [
      "Wall time: 14 s\n"
     ]
    }
   ],
   "source": [
    "%%time\n",
    "res=get_polymer(data, template, 10)"
   ]
  },
  {
   "cell_type": "code",
   "execution_count": 697,
   "metadata": {},
   "outputs": [
    {
     "data": {
      "text/plain": [
       "P    3258\n",
       "S    2787\n",
       "O    2364\n",
       "K    2040\n",
       "B    1762\n",
       "F    1636\n",
       "N    1615\n",
       "V    1614\n",
       "H    1531\n",
       "C     850\n",
       "dtype: int64"
      ]
     },
     "execution_count": 697,
     "metadata": {},
     "output_type": "execute_result"
    }
   ],
   "source": [
    "pd.Series(list(res)).value_counts()"
   ]
  },
  {
   "cell_type": "code",
   "execution_count": 699,
   "metadata": {},
   "outputs": [
    {
     "data": {
      "text/plain": [
       "2408"
      ]
     },
     "execution_count": 699,
     "metadata": {},
     "output_type": "execute_result"
    }
   ],
   "source": [
    "3258 - 850"
   ]
  },
  {
   "cell_type": "code",
   "execution_count": null,
   "metadata": {},
   "outputs": [],
   "source": [
    "# it grows exponentially and there is no chance it can finish running before i die :( hence need to rewrite function\n",
    "%%time\n",
    "res=get_polymer_speed_up(data, template, 40)"
   ]
  },
  {
   "cell_type": "markdown",
   "metadata": {},
   "source": [
    "## Day15"
   ]
  },
  {
   "cell_type": "code",
   "execution_count": 53,
   "metadata": {},
   "outputs": [
    {
     "name": "stdout",
     "output_type": "stream",
     "text": [
      "time: 15 ms (started: 2022-01-02 16:29:59 +00:00)\n"
     ]
    }
   ],
   "source": [
    "with open(\"Day15/day15.txt\", \"r\") as file:\n",
    "    data = file.read().split(\"\\n\")\n",
    "data = np.array([[int(_) for _ in list(d)] for d in data])"
   ]
  },
  {
   "cell_type": "code",
   "execution_count": 54,
   "metadata": {},
   "outputs": [
    {
     "data": {
      "text/plain": [
       "array([[3, 9, 8, ..., 9, 1, 5],\n",
       "       [1, 2, 9, ..., 6, 1, 9],\n",
       "       [9, 8, 3, ..., 9, 8, 8],\n",
       "       ...,\n",
       "       [6, 1, 1, ..., 1, 9, 5],\n",
       "       [9, 1, 8, ..., 9, 4, 3],\n",
       "       [1, 4, 5, ..., 8, 9, 6]])"
      ]
     },
     "execution_count": 54,
     "metadata": {},
     "output_type": "execute_result"
    },
    {
     "name": "stdout",
     "output_type": "stream",
     "text": [
      "time: 0 ns (started: 2022-01-02 16:30:00 +00:00)\n"
     ]
    }
   ],
   "source": [
    "data"
   ]
  },
  {
   "cell_type": "code",
   "execution_count": 5,
   "metadata": {},
   "outputs": [
    {
     "data": {
      "text/plain": [
       "(100, 100)"
      ]
     },
     "execution_count": 5,
     "metadata": {},
     "output_type": "execute_result"
    },
    {
     "name": "stdout",
     "output_type": "stream",
     "text": [
      "time: 0 ns (started: 2022-01-02 15:25:10 +00:00)\n"
     ]
    }
   ],
   "source": [
    "data.shape"
   ]
  },
  {
   "cell_type": "code",
   "execution_count": 6,
   "metadata": {},
   "outputs": [
    {
     "name": "stdout",
     "output_type": "stream",
     "text": [
      "time: 15 ms (started: 2022-01-02 15:25:12 +00:00)\n"
     ]
    }
   ],
   "source": [
    "# code adapted from https://www.udacity.com/blog/2021/10/implementing-dijkstras-algorithm-in-python.html\n",
    "import sys\n",
    "\n",
    "\n",
    "class Graph(object):\n",
    "    \"\"\"\n",
    "    directed graph, as in V_ab can be different to V_ba\n",
    "    \"\"\"\n",
    "\n",
    "    def __init__(self, nodes, init_graph):\n",
    "        self.nodes = nodes\n",
    "        self.graph = self.construct_graph(nodes, init_graph)\n",
    "\n",
    "    def construct_graph(self, nodes, init_graph):\n",
    "        \"\"\"\n",
    "        This method makes sure that the graph is symmetrical. In other words,\n",
    "        if there's a path from node A to B with a value V,\n",
    "        there needs to be a path from node B to node A with a value V.\n",
    "        \"\"\"\n",
    "        graph = {}\n",
    "        for node in nodes:\n",
    "            graph[node] = {}\n",
    "\n",
    "        graph.update(init_graph)\n",
    "\n",
    "        for node, edges in graph.items():\n",
    "            for adjacent_node, value in edges.items():\n",
    "                if graph[adjacent_node].get(node, False) == False:\n",
    "                    graph[adjacent_node][node] = value\n",
    "\n",
    "        return graph\n",
    "\n",
    "    def get_nodes(self):\n",
    "        \"Returns the nodes of the graph.\"\n",
    "        return self.nodes\n",
    "\n",
    "    def get_outgoing_edges(self, node):\n",
    "        \"Returns the neighbors of a node.\"\n",
    "        connections = []\n",
    "        for out_node in self.nodes:\n",
    "            if self.graph[node].get(out_node, False) != False:\n",
    "                connections.append(out_node)\n",
    "        return connections\n",
    "\n",
    "    def value(self, node1, node2):\n",
    "        \"Returns the value of an edge between two nodes.\"\n",
    "        return self.graph[node1][node2]"
   ]
  },
  {
   "cell_type": "code",
   "execution_count": 7,
   "metadata": {},
   "outputs": [
    {
     "name": "stdout",
     "output_type": "stream",
     "text": [
      "time: 62 ms (started: 2022-01-02 15:25:13 +00:00)\n"
     ]
    }
   ],
   "source": [
    "def construct_graph(data: np.array) -> Graph:\n",
    "    n_row, n_col = data.shape\n",
    "    init_graph = {}\n",
    "    # adding nodes to a graph\n",
    "    for i in range(n_row):\n",
    "        for j in range(n_col):\n",
    "            init_graph[(i, j)] = {}\n",
    "    nodes = list(init_graph.keys())\n",
    "    # adding edges to a graph, note that diagonal is not allowed!\n",
    "    for i in range(n_row):\n",
    "        for j in range(n_col):\n",
    "            # top left corner, 2 adjacent points\n",
    "            if (i == 0) & (j == 0):\n",
    "                init_graph[(i, j)][(i + 1, j)] = data[i + 1][j]\n",
    "                init_graph[(i, j)][(i, j + 1)] = data[i][j + 1]\n",
    "            # top right corner, 2 adjacent points\n",
    "            elif (i == n_row - 1) & (j == 0):\n",
    "                init_graph[(i, j)][(i - 1, j)] = data[i - 1][j]\n",
    "                init_graph[(i, j)][(i, j + 1)] = data[i][j + 1]\n",
    "            # bottom left corner, 2 adjacent points\n",
    "            elif (i == 0) & (j == n_col - 1):\n",
    "                init_graph[(i, j)][(i, j - 1)] = data[i][j - 1]\n",
    "                init_graph[(i, j)][(i + 1, j)] = data[i + 1][j]\n",
    "            # bottom right corner, 2 adjacent points\n",
    "            elif (i == n_row - 1) & (j == n_col - 1):\n",
    "                init_graph[(i, j)][(i - 1, j)] = data[i - 1][j]\n",
    "                init_graph[(i, j)][(i, j - 1)] = data[i][j - 1]\n",
    "            # top row, 3 adjacent points\n",
    "            elif (0 < i < n_row - 1) & (j == 0):\n",
    "                init_graph[(i, j)][(i + 1, j)] = data[i + 1][j]\n",
    "                init_graph[(i, j)][(i - 1, j)] = data[i - 1][j]\n",
    "                init_graph[(i, j)][(i, j + 1)] = data[i][j + 1]\n",
    "            # bottom row, 3 adjacent points\n",
    "            elif (0 < i < n_row - 1) & (j == n_col - 1):\n",
    "                init_graph[(i, j)][(i + 1, j)] = data[i + 1][j]\n",
    "                init_graph[(i, j)][(i - 1, j)] = data[i - 1][j]\n",
    "                init_graph[(i, j)][(i, j - 1)] = data[i][j - 1]\n",
    "            # left col, 3 adjacent points\n",
    "            elif (0 < j < n_col - 1) & (i == 0):\n",
    "                init_graph[(i, j)][(i, j + 1)] = data[i][j + 1]\n",
    "                init_graph[(i, j)][(i, j - 1)] = data[i][j - 1]\n",
    "                init_graph[(i, j)][(i + 1, j)] = data[i + 1][j]\n",
    "            # right col, 3 adjacent points\n",
    "            elif (0 < j < n_col - 1) & (i == n_row - 1):\n",
    "                init_graph[(i, j)][(i, j + 1)] = data[i][j + 1]\n",
    "                init_graph[(i, j)][(i, j - 1)] = data[i][j - 1]\n",
    "                init_graph[(i, j)][(i - 1, j)] = data[i - 1][j]\n",
    "            else:\n",
    "                init_graph[(i, j)][(i + 1, j)] = data[i + 1][j]\n",
    "                init_graph[(i, j)][(i - 1, j)] = data[i - 1][j]\n",
    "                init_graph[(i, j)][(i, j - 1)] = data[i][j - 1]\n",
    "                init_graph[(i, j)][(i, j + 1)] = data[i][j + 1]\n",
    "    # creat Graph object\n",
    "    graph = Graph(nodes, init_graph)\n",
    "    return graph"
   ]
  },
  {
   "cell_type": "code",
   "execution_count": 8,
   "metadata": {},
   "outputs": [
    {
     "name": "stdout",
     "output_type": "stream",
     "text": [
      "time: 31 ms (started: 2022-01-02 15:25:14 +00:00)\n"
     ]
    }
   ],
   "source": [
    "# using unordered list, time complexity is O(V^2)\n",
    "def dijkstra_algorithm(graph, start_node):\n",
    "    unvisited_nodes = list(graph.get_nodes())\n",
    "\n",
    "    # We'll use this dict to save the cost of visiting each node and update it as we move along the graph\n",
    "    shortest_path = {}\n",
    "\n",
    "    # We'll use this dict to save the shortest known path to a node found so far\n",
    "    previous_nodes = {}\n",
    "\n",
    "    # We'll use max_value to initialize the \"infinity\" value of the unvisited nodes\n",
    "    max_value = sys.maxsize\n",
    "    for node in unvisited_nodes:\n",
    "        shortest_path[node] = max_value\n",
    "    # However, we initialize the starting node's value with 0\n",
    "    shortest_path[start_node] = 0\n",
    "\n",
    "    # The algorithm executes until we visit all nodes\n",
    "    while unvisited_nodes:\n",
    "        # The code block below finds the node with the lowest score\n",
    "        current_min_node = None\n",
    "        for node in unvisited_nodes:  # Iterate over the nodes\n",
    "            if current_min_node == None:\n",
    "                current_min_node = node\n",
    "            elif shortest_path[node] < shortest_path[current_min_node]:\n",
    "                current_min_node = node\n",
    "\n",
    "        # The code block below retrieves the current node's neighbors and updates their distances\n",
    "        neighbors = graph.get_outgoing_edges(current_min_node)\n",
    "        for neighbor in neighbors:\n",
    "            tentative_value = shortest_path[current_min_node] + graph.value(\n",
    "                current_min_node, neighbor\n",
    "            )\n",
    "            if tentative_value < shortest_path[neighbor]:\n",
    "                shortest_path[neighbor] = tentative_value\n",
    "                # We also update the best path to the current node\n",
    "                previous_nodes[neighbor] = current_min_node\n",
    "\n",
    "        # After visiting its neighbors, we mark the node as \"visited\"\n",
    "        unvisited_nodes.remove(current_min_node)\n",
    "\n",
    "    return previous_nodes, shortest_path"
   ]
  },
  {
   "cell_type": "code",
   "execution_count": 9,
   "metadata": {},
   "outputs": [
    {
     "name": "stdout",
     "output_type": "stream",
     "text": [
      "time: 157 ms (started: 2022-01-02 15:25:15 +00:00)\n"
     ]
    }
   ],
   "source": [
    "graph = construct_graph(data)"
   ]
  },
  {
   "cell_type": "code",
   "execution_count": 795,
   "metadata": {},
   "outputs": [
    {
     "name": "stdout",
     "output_type": "stream",
     "text": [
      "Wall time: 1min 43s\n",
      "time: 1min 43s (started: 2021-12-27 17:20:20 +00:00)\n"
     ]
    }
   ],
   "source": [
    "%%time\n",
    "previous_nodes, shortest_path = dijkstra_algorithm(graph=graph, start_node=(0, 0))"
   ]
  },
  {
   "cell_type": "code",
   "execution_count": 10,
   "metadata": {},
   "outputs": [
    {
     "name": "stdout",
     "output_type": "stream",
     "text": [
      "time: 16 ms (started: 2022-01-02 15:25:26 +00:00)\n"
     ]
    }
   ],
   "source": [
    "def print_result(previous_nodes, shortest_path, start_node, target_node):\n",
    "    path = []\n",
    "    node = target_node\n",
    "\n",
    "    while node != start_node:\n",
    "        path.append(node)\n",
    "        node = previous_nodes[node]\n",
    "\n",
    "    # Add the start node manually\n",
    "    path.append(start_node)\n",
    "\n",
    "    print(\n",
    "        \"We found the following best path with a value of {}.\".format(\n",
    "            shortest_path[target_node]\n",
    "        )\n",
    "    )\n",
    "    # print(path)"
   ]
  },
  {
   "cell_type": "code",
   "execution_count": 797,
   "metadata": {},
   "outputs": [
    {
     "name": "stdout",
     "output_type": "stream",
     "text": [
      "We found the following best path with a value of 613.\n",
      "time: 0 ns (started: 2021-12-27 17:22:08 +00:00)\n"
     ]
    }
   ],
   "source": [
    "print_result(previous_nodes, shortest_path, start_node=(0, 0), target_node=(99, 99))"
   ]
  },
  {
   "cell_type": "code",
   "execution_count": 11,
   "metadata": {},
   "outputs": [
    {
     "name": "stdout",
     "output_type": "stream",
     "text": [
      "time: 16 ms (started: 2022-01-02 15:25:30 +00:00)\n"
     ]
    }
   ],
   "source": [
    "# expand map\n",
    "data_h_all = data\n",
    "for i in range(4):\n",
    "    tmp = data + 1\n",
    "    tmp = np.where(tmp == 10, 1, tmp)\n",
    "    data_h_all = np.concatenate((data_h_all, tmp), axis=1)\n",
    "    data = tmp\n",
    "data_all = data_h_all\n",
    "for i in range(4):\n",
    "    tmp = data_h_all + 1\n",
    "    tmp = np.where(tmp == 10, 1, tmp)\n",
    "    data_all = np.concatenate((data_all, tmp), axis=0)\n",
    "    data_h_all = tmp"
   ]
  },
  {
   "cell_type": "code",
   "execution_count": 12,
   "metadata": {},
   "outputs": [
    {
     "data": {
      "text/plain": [
       "(500, 500)"
      ]
     },
     "execution_count": 12,
     "metadata": {},
     "output_type": "execute_result"
    },
    {
     "name": "stdout",
     "output_type": "stream",
     "text": [
      "time: 16 ms (started: 2022-01-02 15:25:33 +00:00)\n"
     ]
    }
   ],
   "source": [
    "data_all.shape"
   ]
  },
  {
   "cell_type": "code",
   "execution_count": 24,
   "metadata": {},
   "outputs": [
    {
     "name": "stdout",
     "output_type": "stream",
     "text": [
      "time: 15 ms (started: 2022-01-02 16:06:07 +00:00)\n"
     ]
    }
   ],
   "source": [
    "from collections import defaultdict\n",
    "\n",
    "\n",
    "class Graph_new:\n",
    "    def __init__(self, V):\n",
    "        self.V = V\n",
    "        self.graph = defaultdict(list)\n",
    "\n",
    "    # Adds an edge to an undirected graph\n",
    "    def addEdge(self, src, dest, weight):\n",
    "\n",
    "        # Add an edge from src to dest.\n",
    "        # A new node is added to the adjacency list of src.\n",
    "        # The node is added at the beginning.\n",
    "        # The first element of the node has the destination and the second elements has the weight\n",
    "        newNode = [dest, weight]\n",
    "        self.graph[src].insert(0, newNode)"
   ]
  },
  {
   "cell_type": "code",
   "execution_count": 58,
   "metadata": {},
   "outputs": [
    {
     "name": "stdout",
     "output_type": "stream",
     "text": [
      "time: 16 ms (started: 2022-01-02 16:31:29 +00:00)\n"
     ]
    }
   ],
   "source": [
    "def calc_idx_from_loc(x: int, y: int, multiplier: int) -> int:\n",
    "    idx = multiplier * x + y\n",
    "    return idx"
   ]
  },
  {
   "cell_type": "code",
   "execution_count": 61,
   "metadata": {},
   "outputs": [
    {
     "name": "stdout",
     "output_type": "stream",
     "text": [
      "time: 63 ms (started: 2022-01-02 16:32:40 +00:00)\n"
     ]
    }
   ],
   "source": [
    "def construct_graph_new(data: np.array) -> Graph_new:\n",
    "    n_row, n_col = data.shape\n",
    "    V = n_row * n_col\n",
    "    graph = Graph_new(V)\n",
    "\n",
    "    # adding edges to a graph, note that diagonal is not allowed!\n",
    "    for i in range(n_row):\n",
    "        for j in range(n_col):\n",
    "            src = calc_idx_from_loc(i, j, n_row)\n",
    "            # top left corner, 2 adjacent points\n",
    "            if (i == 0) & (j == 0):\n",
    "                graph.addEdge(src, calc_idx_from_loc(i + 1, j, n_row), data[i + 1][j])\n",
    "                graph.addEdge(src, calc_idx_from_loc(i, j + 1, n_row), data[i][j + 1])\n",
    "            # top right corner, 2 adjacent points\n",
    "            elif (i == n_row - 1) & (j == 0):\n",
    "                graph.addEdge(src, calc_idx_from_loc(i - 1, j, n_row), data[i - 1][j])\n",
    "                graph.addEdge(src, calc_idx_from_loc(i, j + 1, n_row), data[i][j + 1])\n",
    "            # bottom left corner, 2 adjacent points\n",
    "            elif (i == 0) & (j == n_col - 1):\n",
    "                graph.addEdge(src, calc_idx_from_loc(i, j - 1, n_row), data[i][j - 1])\n",
    "                graph.addEdge(src, calc_idx_from_loc(i + 1, j, n_row), data[i + 1][j])\n",
    "            # bottom right corner, 2 adjacent points\n",
    "            elif (i == n_row - 1) & (j == n_col - 1):\n",
    "                graph.addEdge(src, calc_idx_from_loc(i - 1, j, n_row), data[i - 1][j])\n",
    "                graph.addEdge(src, calc_idx_from_loc(i, j - 1, n_row), data[i][j - 1])\n",
    "            # top row, 3 adjacent points\n",
    "            elif (0 < i < n_row - 1) & (j == 0):\n",
    "                graph.addEdge(src, calc_idx_from_loc(i + 1, j, n_row), data[i + 1][j])\n",
    "                graph.addEdge(src, calc_idx_from_loc(i - 1, j, n_row), data[i - 1][j])\n",
    "                graph.addEdge(src, calc_idx_from_loc(i, j + 1, n_row), data[i][j + 1])\n",
    "            # bottom row, 3 adjacent points\n",
    "            elif (0 < i < n_row - 1) & (j == n_col - 1):\n",
    "                graph.addEdge(src, calc_idx_from_loc(i + 1, j, n_row), data[i + 1][j])\n",
    "                graph.addEdge(src, calc_idx_from_loc(i - 1, j, n_row), data[i - 1][j])\n",
    "                graph.addEdge(src, calc_idx_from_loc(i, j - 1, n_row), data[i][j - 1])\n",
    "            # left col, 3 adjacent points\n",
    "            elif (0 < j < n_col - 1) & (i == 0):\n",
    "                graph.addEdge(src, calc_idx_from_loc(i + 1, j, n_row), data[i + 1][j])\n",
    "                graph.addEdge(src, calc_idx_from_loc(i, j + 1, n_row), data[i][j + 1])\n",
    "                graph.addEdge(src, calc_idx_from_loc(i, j - 1, n_row), data[i][j - 1])\n",
    "            # right col, 3 adjacent points\n",
    "            elif (0 < j < n_col - 1) & (i == n_row - 1):\n",
    "                graph.addEdge(src, calc_idx_from_loc(i - 1, j, n_row), data[i - 1][j])\n",
    "                graph.addEdge(src, calc_idx_from_loc(i, j + 1, n_row), data[i][j + 1])\n",
    "                graph.addEdge(src, calc_idx_from_loc(i, j - 1, n_row), data[i][j - 1])\n",
    "            else:\n",
    "                graph.addEdge(src, calc_idx_from_loc(i + 1, j, n_row), data[i + 1][j])\n",
    "                graph.addEdge(src, calc_idx_from_loc(i - 1, j, n_row), data[i - 1][j])\n",
    "                graph.addEdge(src, calc_idx_from_loc(i, j + 1, n_row), data[i][j + 1])\n",
    "                graph.addEdge(src, calc_idx_from_loc(i, j - 1, n_row), data[i][j - 1])\n",
    "    return graph"
   ]
  },
  {
   "cell_type": "code",
   "execution_count": 62,
   "metadata": {},
   "outputs": [
    {
     "name": "stdout",
     "output_type": "stream",
     "text": [
      "time: 78 ms (started: 2022-01-02 16:32:41 +00:00)\n"
     ]
    }
   ],
   "source": [
    "graph_old = construct_graph_new(data)"
   ]
  },
  {
   "cell_type": "code",
   "execution_count": 27,
   "metadata": {},
   "outputs": [
    {
     "name": "stdout",
     "output_type": "stream",
     "text": [
      "time: 2.55 s (started: 2022-01-02 16:06:48 +00:00)\n"
     ]
    }
   ],
   "source": [
    "graph = construct_graph_new(data_all)"
   ]
  },
  {
   "cell_type": "code",
   "execution_count": 28,
   "metadata": {},
   "outputs": [
    {
     "data": {
      "text/plain": [
       "250000"
      ]
     },
     "execution_count": 28,
     "metadata": {},
     "output_type": "execute_result"
    },
    {
     "name": "stdout",
     "output_type": "stream",
     "text": [
      "time: 0 ns (started: 2022-01-02 16:07:19 +00:00)\n"
     ]
    }
   ],
   "source": [
    "graph.V"
   ]
  },
  {
   "cell_type": "code",
   "execution_count": 39,
   "metadata": {},
   "outputs": [
    {
     "name": "stdout",
     "output_type": "stream",
     "text": [
      "time: 47 ms (started: 2022-01-02 16:15:32 +00:00)\n"
     ]
    }
   ],
   "source": [
    "class minHeap:\n",
    "    def __init__(self):\n",
    "        self.array = []\n",
    "        self.size = 0\n",
    "        self.pos = []\n",
    "\n",
    "    def newMinHeapNode(self, v, dist):\n",
    "        return [v, dist]\n",
    "\n",
    "    # A utility function to swap two nodes of min heap. Needed for min heapify\n",
    "    def swapMinHeapNode(self, a, b):\n",
    "        t = self.array[a]\n",
    "        self.array[a] = self.array[b]\n",
    "        self.array[b] = t\n",
    "\n",
    "    # A recursive function to heapify at given idx This function also updates position of nodes when they are swapped.Position is needed for decreaseKey()\n",
    "    # NOTE: if the index of a node is idx, then the indices of its left and right child are 2*idx+1 and 2*idx+2, respectively\n",
    "    def minHeapify(self, idx):\n",
    "        smallest = idx\n",
    "        left_child = 2 * idx + 1\n",
    "        right_child = 2 * idx + 2\n",
    "\n",
    "        if left_child < self.size and (\n",
    "            self.array[left_child][1] < self.array[smallest][1]\n",
    "        ):\n",
    "            smallest = left_child\n",
    "\n",
    "        if right_child < self.size and (\n",
    "            self.array[right_child][1] < self.array[smallest][1]\n",
    "        ):\n",
    "            smallest = right_child\n",
    "\n",
    "        # The nodes to be swapped in min heap if idx is not smallest\n",
    "        if smallest != idx:\n",
    "            # Swap positions\n",
    "            self.pos[self.array[smallest][0]] = idx\n",
    "            self.pos[self.array[idx][0]] = smallest\n",
    "            # Swap nodes\n",
    "            self.swapMinHeapNode(smallest, idx)\n",
    "\n",
    "            self.minHeapify(smallest)\n",
    "\n",
    "    # Standard function to extract minimum node from heap\n",
    "    def extractMin(self):\n",
    "\n",
    "        # Return NULL wif heap is empty\n",
    "        if self.isEmpty() == True:\n",
    "            return\n",
    "\n",
    "        # Store the root node\n",
    "        root = self.array[0]\n",
    "\n",
    "        # Replace root node with last node\n",
    "        lastNode = self.array[self.size - 1]\n",
    "        self.array[0] = lastNode\n",
    "\n",
    "        # Update position of last node\n",
    "        self.pos[lastNode[0]] = 0\n",
    "        self.pos[root[0]] = self.size - 1\n",
    "\n",
    "        # Reduce heap size and heapify root\n",
    "        self.size -= 1\n",
    "        self.minHeapify(0)\n",
    "        return root\n",
    "\n",
    "    def isEmpty(self):\n",
    "        return True if self.size == 0 else False\n",
    "\n",
    "    def decreaseKey(self, v, dist):\n",
    "        # Get the index of v in heap array\n",
    "        i = self.pos[v]\n",
    "\n",
    "        # Get the node and update its dist value\n",
    "        self.array[i][1] = dist\n",
    "\n",
    "        # Travel up while the complete tree is not hepified. This is a O(Logn) loop\n",
    "        while i > 0 and (self.array[i][1] < self.array[int((i - 1) / 2)][1]):\n",
    "            # Swap this node with its parent\n",
    "            self.pos[self.array[i][0]] = int((i - 1) / 2)\n",
    "            self.pos[self.array[int((i - 1) / 2)][0]] = i\n",
    "            self.swapMinHeapNode(i, int((i - 1) / 2))\n",
    "            # move to parent index\n",
    "            i = int((i - 1) / 2)\n",
    "\n",
    "    # A utility function to check if a given vertex 'v' is in min heap or not\n",
    "    def isInMinHeap(self, v):\n",
    "        if self.pos[v] < self.size:\n",
    "            return True\n",
    "        return False"
   ]
  },
  {
   "cell_type": "code",
   "execution_count": 42,
   "metadata": {},
   "outputs": [
    {
     "name": "stdout",
     "output_type": "stream",
     "text": [
      "time: 15 ms (started: 2022-01-02 16:16:43 +00:00)\n"
     ]
    }
   ],
   "source": [
    "# time complexity is O(ElogV)\n",
    "def dijkstra_algorithm_min_heap(graph, src):\n",
    "    V = graph.V  # number of vertices in graph\n",
    "    dist = []  # dist values used to pick minimum weight edge in cut\n",
    "\n",
    "    # minHeap represents set E\n",
    "    min_heap = minHeap()\n",
    "\n",
    "    # Initialize min heap with all vertices. dist value of all vertices\n",
    "    for v in range(V):\n",
    "        dist.append(sys.maxsize)\n",
    "        min_heap.array.append(min_heap.newMinHeapNode(v, dist[v]))\n",
    "        min_heap.pos.append(v)\n",
    "\n",
    "    # Make dist value of src vertex as 0 so that it is extracted first\n",
    "    min_heap.pos[src] = src\n",
    "    dist[src] = 0\n",
    "    min_heap.decreaseKey(src, dist[src])\n",
    "\n",
    "    # Initially size of min heap is equal to V\n",
    "    min_heap.size = V\n",
    "\n",
    "    # In the following loop, min heap contains all nodes whose shortest distance is not yet finalized.\n",
    "    while not min_heap.isEmpty():\n",
    "        # Extract the vertex with minimum distance value\n",
    "        newHeapNode = min_heap.extractMin()\n",
    "        u = newHeapNode[0]\n",
    "\n",
    "        # Traverse through all adjacent vertices of u (the extracted vertex) and update their distance values\n",
    "        for pCrawl in graph.graph[u]:\n",
    "            v = pCrawl[0]\n",
    "            # If shortest distance to v is not finalized yet, and distance to v through u is less than its previously calculated distance\n",
    "            if (\n",
    "                min_heap.isInMinHeap(v)\n",
    "                and dist[u] != sys.maxsize\n",
    "                and pCrawl[1] + dist[u] < dist[v]\n",
    "            ):\n",
    "                dist[v] = pCrawl[1] + dist[u]\n",
    "                # update distance value in min heap also\n",
    "                min_heap.decreaseKey(v, dist[v])\n",
    "    return dist"
   ]
  },
  {
   "cell_type": "code",
   "execution_count": 63,
   "metadata": {},
   "outputs": [
    {
     "name": "stdout",
     "output_type": "stream",
     "text": [
      "time: 484 ms (started: 2022-01-02 16:32:53 +00:00)\n"
     ]
    }
   ],
   "source": [
    "dist_old = dijkstra_algorithm_min_heap(graph_old, 0)"
   ]
  },
  {
   "cell_type": "code",
   "execution_count": 64,
   "metadata": {},
   "outputs": [
    {
     "data": {
      "text/plain": [
       "613"
      ]
     },
     "execution_count": 64,
     "metadata": {},
     "output_type": "execute_result"
    },
    {
     "name": "stdout",
     "output_type": "stream",
     "text": [
      "time: 15 ms (started: 2022-01-02 16:32:55 +00:00)\n"
     ]
    }
   ],
   "source": [
    "dist_old[100 * 100 - 1]"
   ]
  },
  {
   "cell_type": "code",
   "execution_count": 43,
   "metadata": {},
   "outputs": [
    {
     "name": "stdout",
     "output_type": "stream",
     "text": [
      "time: 18.7 s (started: 2022-01-02 16:16:48 +00:00)\n"
     ]
    }
   ],
   "source": [
    "dist = dijkstra_algorithm_min_heap(graph, 0)"
   ]
  },
  {
   "cell_type": "code",
   "execution_count": 44,
   "metadata": {},
   "outputs": [
    {
     "data": {
      "text/plain": [
       "2899"
      ]
     },
     "execution_count": 44,
     "metadata": {},
     "output_type": "execute_result"
    },
    {
     "name": "stdout",
     "output_type": "stream",
     "text": [
      "time: 16 ms (started: 2022-01-02 16:17:28 +00:00)\n"
     ]
    }
   ],
   "source": [
    "dist[500 * 500 - 1]"
   ]
  },
  {
   "cell_type": "markdown",
   "metadata": {},
   "source": [
    "## Day16"
   ]
  },
  {
   "cell_type": "code",
   "execution_count": 65,
   "metadata": {},
   "outputs": [
    {
     "name": "stdout",
     "output_type": "stream",
     "text": [
      "time: 0 ns (started: 2022-01-02 18:51:57 +00:00)\n"
     ]
    }
   ],
   "source": [
    "data = \"\"\"220D700071F39F9C6BC92D4A6713C737B3E98783004AC0169B4B99F93CFC31AC4D8A4BB89E9D654D216B80131DC0050B20043E27C1F83240086C468A311CC0188DB0BA12B00719221D3F7AF776DC5DE635094A7D2370082795A52911791ECB7EDA9CFD634BDED14030047C01498EE203931BF7256189A593005E116802D34673999A3A805126EB2B5BEEBB823CB561E9F2165492CE00E6918C011926CA005465B0BB2D85D700B675DA72DD7E9DBE377D62B27698F0D4BAD100735276B4B93C0FF002FF359F3BCFF0DC802ACC002CE3546B92FCB7590C380210523E180233FD21D0040001098ED076108002110960D45F988EB14D9D9802F232A32E802F2FDBEBA7D3B3B7FB06320132B0037700043224C5D8F2000844558C704A6FEAA800D2CFE27B921CA872003A90C6214D62DA8AA9009CF600B8803B10E144741006A1C47F85D29DCF7C9C40132680213037284B3D488640A1008A314BC3D86D9AB6492637D331003E79300012F9BDE8560F1009B32B09EC7FC0151006A0EC6082A0008744287511CC0269810987789132AC600BD802C00087C1D88D05C001088BF1BE284D298005FB1366B353798689D8A84D5194C017D005647181A931895D588E7736C6A5008200F0B802909F97B35897CFCBD9AC4A26DD880259A0037E49861F4E4349A6005CFAD180333E95281338A930EA400824981CC8A2804523AA6F5B3691CF5425B05B3D9AF8DD400F9EDA1100789800D2CBD30E32F4C3ACF52F9FF64326009D802733197392438BF22C52D5AD2D8524034E800C8B202F604008602A6CC00940256C008A9601FF8400D100240062F50038400970034003CE600C70C00F600760C00B98C563FB37CE4BD1BFA769839802F400F8C9CA79429B96E0A93FAE4A5F32201428401A8F508A1B0002131723B43400043618C2089E40143CBA748B3CE01C893C8904F4E1B2D300527AB63DA0091253929E42A53929E420\"\"\""
   ]
  },
  {
   "cell_type": "code",
   "execution_count": null,
   "metadata": {},
   "outputs": [],
   "source": []
  }
 ],
 "metadata": {
  "kernelspec": {
   "display_name": "Python 3",
   "language": "python",
   "name": "python3"
  },
  "language_info": {
   "codemirror_mode": {
    "name": "ipython",
    "version": 3
   },
   "file_extension": ".py",
   "mimetype": "text/x-python",
   "name": "python",
   "nbconvert_exporter": "python",
   "pygments_lexer": "ipython3",
   "version": "3.7.3"
  }
 },
 "nbformat": 4,
 "nbformat_minor": 4
}
